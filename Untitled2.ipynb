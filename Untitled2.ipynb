{
  "nbformat": 4,
  "nbformat_minor": 0,
  "metadata": {
    "colab": {
      "provenance": []
    },
    "kernelspec": {
      "name": "python3",
      "display_name": "Python 3"
    },
    "language_info": {
      "name": "python"
    }
  },
  "cells": [
    {
      "cell_type": "code",
      "execution_count": 1,
      "metadata": {
        "id": "s1STznOKTdFd"
      },
      "outputs": [],
      "source": [
        "import tensorflow as tf\n",
        "import numpy as np"
      ]
    },
    {
      "cell_type": "code",
      "source": [
        "random_1 = tf.random.Generator.from_seed(42)\n",
        "random_1= random_1.normal(shape=(3,2))\n",
        "random_2 = tf.random.Generator.from_seed(42)\n",
        "random_2 = random_2.normal(shape=(3,2))\n",
        "\n",
        "random_1 ,random_2 ,random_1 == random_2"
      ],
      "metadata": {
        "colab": {
          "base_uri": "https://localhost:8080/"
        },
        "id": "zTsBX-VcAXak",
        "outputId": "31ab8781-2e48-4e36-e86c-64c0dfc7b0bd"
      },
      "execution_count": 2,
      "outputs": [
        {
          "output_type": "execute_result",
          "data": {
            "text/plain": [
              "(<tf.Tensor: shape=(3, 2), dtype=float32, numpy=\n",
              " array([[-0.7565803 , -0.06854702],\n",
              "        [ 0.07595026, -1.2573844 ],\n",
              "        [-0.23193763, -1.8107855 ]], dtype=float32)>,\n",
              " <tf.Tensor: shape=(3, 2), dtype=float32, numpy=\n",
              " array([[-0.7565803 , -0.06854702],\n",
              "        [ 0.07595026, -1.2573844 ],\n",
              "        [-0.23193763, -1.8107855 ]], dtype=float32)>,\n",
              " <tf.Tensor: shape=(3, 2), dtype=bool, numpy=\n",
              " array([[ True,  True],\n",
              "        [ True,  True],\n",
              "        [ True,  True]])>)"
            ]
          },
          "metadata": {},
          "execution_count": 2
        }
      ]
    },
    {
      "cell_type": "code",
      "source": [
        "random_1 ,random_2 ,random_1 == random_2"
      ],
      "metadata": {
        "colab": {
          "base_uri": "https://localhost:8080/"
        },
        "id": "A4tFjqMc-NL8",
        "outputId": "4e7c3307-204f-4b41-98a9-4c5b54931dfd"
      },
      "execution_count": 3,
      "outputs": [
        {
          "output_type": "execute_result",
          "data": {
            "text/plain": [
              "(<tf.Tensor: shape=(3, 2), dtype=float32, numpy=\n",
              " array([[-0.7565803 , -0.06854702],\n",
              "        [ 0.07595026, -1.2573844 ],\n",
              "        [-0.23193763, -1.8107855 ]], dtype=float32)>,\n",
              " <tf.Tensor: shape=(3, 2), dtype=float32, numpy=\n",
              " array([[-0.7565803 , -0.06854702],\n",
              "        [ 0.07595026, -1.2573844 ],\n",
              "        [-0.23193763, -1.8107855 ]], dtype=float32)>,\n",
              " <tf.Tensor: shape=(3, 2), dtype=bool, numpy=\n",
              " array([[ True,  True],\n",
              "        [ True,  True],\n",
              "        [ True,  True]])>)"
            ]
          },
          "metadata": {},
          "execution_count": 3
        }
      ]
    },
    {
      "cell_type": "code",
      "source": [
        "A=tf.constant(np.random.randint(0,100,size=50))\n",
        "A"
      ],
      "metadata": {
        "colab": {
          "base_uri": "https://localhost:8080/"
        },
        "id": "gGAeSOGS-rLJ",
        "outputId": "49ccda2f-fcb1-4e7e-c20d-7dd5143688cf"
      },
      "execution_count": 4,
      "outputs": [
        {
          "output_type": "execute_result",
          "data": {
            "text/plain": [
              "<tf.Tensor: shape=(50,), dtype=int64, numpy=\n",
              "array([75, 73,  2, 90, 56, 20, 32,  0, 67, 18,  0,  4, 46, 30, 18, 57, 10,\n",
              "       68,  2, 57, 38, 92, 30, 94, 59, 79, 52, 80, 45, 93, 24, 88, 78, 79,\n",
              "       77, 75, 83, 74,  4,  9, 47, 25, 83, 30, 53, 97, 82, 74, 67, 86])>"
            ]
          },
          "metadata": {},
          "execution_count": 4
        }
      ]
    },
    {
      "cell_type": "code",
      "source": [
        "tf.reduce_min(A)"
      ],
      "metadata": {
        "colab": {
          "base_uri": "https://localhost:8080/"
        },
        "id": "1_TZWzxaawJh",
        "outputId": "5a237cd9-69c8-422a-e0cc-097c1df9f803"
      },
      "execution_count": 5,
      "outputs": [
        {
          "output_type": "execute_result",
          "data": {
            "text/plain": [
              "<tf.Tensor: shape=(), dtype=int64, numpy=0>"
            ]
          },
          "metadata": {},
          "execution_count": 5
        }
      ]
    },
    {
      "cell_type": "code",
      "source": [
        "tf.reduce_max(A)"
      ],
      "metadata": {
        "colab": {
          "base_uri": "https://localhost:8080/"
        },
        "id": "7Lq2qHctbG-r",
        "outputId": "ee46a1b5-4239-4062-bbc8-aa799a9dc326"
      },
      "execution_count": 6,
      "outputs": [
        {
          "output_type": "execute_result",
          "data": {
            "text/plain": [
              "<tf.Tensor: shape=(), dtype=int64, numpy=97>"
            ]
          },
          "metadata": {},
          "execution_count": 6
        }
      ]
    },
    {
      "cell_type": "code",
      "source": [
        "tf.reduce_mean(A)"
      ],
      "metadata": {
        "colab": {
          "base_uri": "https://localhost:8080/"
        },
        "id": "m5GdXd-RbLuw",
        "outputId": "9b964224-4e10-46eb-8f35-2daacc739fc6"
      },
      "execution_count": 7,
      "outputs": [
        {
          "output_type": "execute_result",
          "data": {
            "text/plain": [
              "<tf.Tensor: shape=(), dtype=int64, numpy=52>"
            ]
          },
          "metadata": {},
          "execution_count": 7
        }
      ]
    },
    {
      "cell_type": "code",
      "source": [
        "tf.reduce_sum(A)"
      ],
      "metadata": {
        "colab": {
          "base_uri": "https://localhost:8080/"
        },
        "id": "Tgt5aYunbRUI",
        "outputId": "d434f451-082d-429a-8613-0803f9407b9f"
      },
      "execution_count": 8,
      "outputs": [
        {
          "output_type": "execute_result",
          "data": {
            "text/plain": [
              "<tf.Tensor: shape=(), dtype=int64, numpy=2622>"
            ]
          },
          "metadata": {},
          "execution_count": 8
        }
      ]
    },
    {
      "cell_type": "code",
      "source": [
        "import tensorflow_probability as tfp\n",
        "tfp.stats.variance(A)"
      ],
      "metadata": {
        "colab": {
          "base_uri": "https://localhost:8080/"
        },
        "id": "0RcFyaXrbiKK",
        "outputId": "d44dd346-3265-4953-8d64-a8e78109f4b7"
      },
      "execution_count": 9,
      "outputs": [
        {
          "output_type": "execute_result",
          "data": {
            "text/plain": [
              "<tf.Tensor: shape=(), dtype=int64, numpy=925>"
            ]
          },
          "metadata": {},
          "execution_count": 9
        }
      ]
    },
    {
      "cell_type": "code",
      "source": [
        "tf.math.reduce_std(tf.cast(A, dtype=tf.float16))"
      ],
      "metadata": {
        "colab": {
          "base_uri": "https://localhost:8080/"
        },
        "id": "jDBUi9yUbv2F",
        "outputId": "a42759ad-5b89-45f8-81ea-36915580191f"
      },
      "execution_count": 10,
      "outputs": [
        {
          "output_type": "execute_result",
          "data": {
            "text/plain": [
              "<tf.Tensor: shape=(), dtype=float16, numpy=30.4>"
            ]
          },
          "metadata": {},
          "execution_count": 10
        }
      ]
    },
    {
      "cell_type": "code",
      "source": [
        "tf.random.set_seed(42)\n",
        "C=tf.constant(tf.random.uniform(shape=[50]),shape=(1,1,1,1,50))\n",
        "C"
      ],
      "metadata": {
        "id": "Emjnotfkj3s5",
        "colab": {
          "base_uri": "https://localhost:8080/"
        },
        "outputId": "323bf1a1-e8e7-4a31-8ada-0ae5cbbbca27"
      },
      "execution_count": 11,
      "outputs": [
        {
          "output_type": "execute_result",
          "data": {
            "text/plain": [
              "<tf.Tensor: shape=(1, 1, 1, 1, 50), dtype=float32, numpy=\n",
              "array([[[[[0.6645621 , 0.44100678, 0.3528825 , 0.46448255, 0.03366041,\n",
              "           0.68467236, 0.74011743, 0.8724445 , 0.22632635, 0.22319686,\n",
              "           0.3103881 , 0.7223358 , 0.13318717, 0.5480639 , 0.5746088 ,\n",
              "           0.8996835 , 0.00946367, 0.5212307 , 0.6345445 , 0.1993283 ,\n",
              "           0.72942245, 0.54583454, 0.10756552, 0.6767061 , 0.6602763 ,\n",
              "           0.33695042, 0.60141766, 0.21062577, 0.8527372 , 0.44062173,\n",
              "           0.9485276 , 0.23752594, 0.81179297, 0.5263394 , 0.494308  ,\n",
              "           0.21612847, 0.8457197 , 0.8718841 , 0.3083862 , 0.6868038 ,\n",
              "           0.23764038, 0.7817228 , 0.9671384 , 0.06870162, 0.79873943,\n",
              "           0.66028714, 0.5871513 , 0.16461694, 0.7381023 , 0.32054043]]]]],\n",
              "      dtype=float32)>"
            ]
          },
          "metadata": {},
          "execution_count": 11
        }
      ]
    },
    {
      "cell_type": "code",
      "source": [
        "C_squeezed=tf.squeeze(C)\n",
        "C_squeezed,C_squeezed.shape"
      ],
      "metadata": {
        "colab": {
          "base_uri": "https://localhost:8080/"
        },
        "id": "GZvIclB8XPOK",
        "outputId": "c1b9dd18-7b88-433c-f66d-637b29aa8402"
      },
      "execution_count": 12,
      "outputs": [
        {
          "output_type": "execute_result",
          "data": {
            "text/plain": [
              "(<tf.Tensor: shape=(50,), dtype=float32, numpy=\n",
              " array([0.6645621 , 0.44100678, 0.3528825 , 0.46448255, 0.03366041,\n",
              "        0.68467236, 0.74011743, 0.8724445 , 0.22632635, 0.22319686,\n",
              "        0.3103881 , 0.7223358 , 0.13318717, 0.5480639 , 0.5746088 ,\n",
              "        0.8996835 , 0.00946367, 0.5212307 , 0.6345445 , 0.1993283 ,\n",
              "        0.72942245, 0.54583454, 0.10756552, 0.6767061 , 0.6602763 ,\n",
              "        0.33695042, 0.60141766, 0.21062577, 0.8527372 , 0.44062173,\n",
              "        0.9485276 , 0.23752594, 0.81179297, 0.5263394 , 0.494308  ,\n",
              "        0.21612847, 0.8457197 , 0.8718841 , 0.3083862 , 0.6868038 ,\n",
              "        0.23764038, 0.7817228 , 0.9671384 , 0.06870162, 0.79873943,\n",
              "        0.66028714, 0.5871513 , 0.16461694, 0.7381023 , 0.32054043],\n",
              "       dtype=float32)>,\n",
              " TensorShape([50]))"
            ]
          },
          "metadata": {},
          "execution_count": 12
        }
      ]
    },
    {
      "cell_type": "code",
      "source": [
        "help(tf.squeeze)"
      ],
      "metadata": {
        "colab": {
          "base_uri": "https://localhost:8080/"
        },
        "id": "qS_S7QEgXrlX",
        "outputId": "c2a31ffe-129a-4b1c-d63d-5d3a1da81ece"
      },
      "execution_count": 13,
      "outputs": [
        {
          "output_type": "stream",
          "name": "stdout",
          "text": [
            "Help on function squeeze_v2 in module tensorflow.python.ops.array_ops:\n",
            "\n",
            "squeeze_v2(input, axis=None, name=None)\n",
            "    Removes dimensions of size 1 from the shape of a tensor.\n",
            "    \n",
            "    Given a tensor `input`, this operation returns a tensor of the same type with\n",
            "    all dimensions of size 1 removed. If you don't want to remove all size 1\n",
            "    dimensions, you can remove specific size 1 dimensions by specifying\n",
            "    `axis`.\n",
            "    \n",
            "    For example:\n",
            "    \n",
            "    ```python\n",
            "    # 't' is a tensor of shape [1, 2, 1, 3, 1, 1]\n",
            "    tf.shape(tf.squeeze(t))  # [2, 3]\n",
            "    ```\n",
            "    \n",
            "    Or, to remove specific size 1 dimensions:\n",
            "    \n",
            "    ```python\n",
            "    # 't' is a tensor of shape [1, 2, 1, 3, 1, 1]\n",
            "    tf.shape(tf.squeeze(t, [2, 4]))  # [1, 2, 3, 1]\n",
            "    ```\n",
            "    \n",
            "    Unlike the older op `tf.compat.v1.squeeze`, this op does not accept a\n",
            "    deprecated `squeeze_dims` argument.\n",
            "    \n",
            "    Note: if `input` is a `tf.RaggedTensor`, then this operation takes `O(N)`\n",
            "    time, where `N` is the number of elements in the squeezed dimensions.\n",
            "    \n",
            "    Note: If squeeze is performed on dimensions of unknown sizes, then the\n",
            "    returned Tensor will be of unknown shape. A common situation is when the\n",
            "    first (batch) dimension is of size `None`, `tf.squeeze` returns\n",
            "    `<unknown>` shape which may be a surprise. Specify the `axis=` argument\n",
            "    to get the expected result, as illustrated in the following example:\n",
            "    \n",
            "    ```python\n",
            "    @tf.function\n",
            "    def func(x):\n",
            "      print('x.shape:', x.shape)\n",
            "      known_axes = [i for i, size in enumerate(x.shape) if size == 1]\n",
            "      y = tf.squeeze(x, axis=known_axes)\n",
            "      print('shape of tf.squeeze(x, axis=known_axes):', y.shape)\n",
            "      y = tf.squeeze(x)\n",
            "      print('shape of tf.squeeze(x):', y.shape)\n",
            "      return 0\n",
            "    \n",
            "    _ = func.get_concrete_function(tf.TensorSpec([None, 1, 2], dtype=tf.int32))\n",
            "    # Output is.\n",
            "    # x.shape: (None, 1, 2)\n",
            "    # shape of tf.squeeze(x, axis=known_axes): (None, 2)\n",
            "    # shape of tf.squeeze(x): <unknown>\n",
            "    ```\n",
            "    \n",
            "    Args:\n",
            "      input: A `Tensor`. The `input` to squeeze.\n",
            "      axis: An optional list of `ints`. Defaults to `[]`. If specified, only\n",
            "        squeezes the dimensions listed. The dimension index starts at 0. It is an\n",
            "        error to squeeze a dimension that is not 1. Must be in the range\n",
            "        `[-rank(input), rank(input))`. Must be specified if `input` is a\n",
            "        `RaggedTensor`.\n",
            "      name: A name for the operation (optional).\n",
            "    \n",
            "    Returns:\n",
            "      A `Tensor`. Has the same type as `input`.\n",
            "      Contains the same data as `input`, but has one or more dimensions of\n",
            "      size 1 removed.\n",
            "    \n",
            "    Raises:\n",
            "      ValueError: The input cannot be converted to a tensor, or the specified\n",
            "        axis cannot be squeezed.\n",
            "\n"
          ]
        }
      ]
    },
    {
      "cell_type": "code",
      "source": [
        "tf.argmax(C)"
      ],
      "metadata": {
        "colab": {
          "base_uri": "https://localhost:8080/"
        },
        "id": "cwvSIqQkOz6g",
        "outputId": "b7438de8-77a2-4023-cb22-f0011c29742d"
      },
      "execution_count": 14,
      "outputs": [
        {
          "output_type": "execute_result",
          "data": {
            "text/plain": [
              "<tf.Tensor: shape=(1, 1, 1, 50), dtype=int64, numpy=\n",
              "array([[[[0, 0, 0, 0, 0, 0, 0, 0, 0, 0, 0, 0, 0, 0, 0, 0, 0, 0, 0, 0,\n",
              "          0, 0, 0, 0, 0, 0, 0, 0, 0, 0, 0, 0, 0, 0, 0, 0, 0, 0, 0, 0,\n",
              "          0, 0, 0, 0, 0, 0, 0, 0, 0, 0]]]])>"
            ]
          },
          "metadata": {},
          "execution_count": 14
        }
      ]
    },
    {
      "cell_type": "code",
      "source": [
        "C[tf.argmax(C)]"
      ],
      "metadata": {
        "colab": {
          "base_uri": "https://localhost:8080/",
          "height": 338
        },
        "id": "d9NzHMqRO9gW",
        "outputId": "16413d82-fff0-448b-b251-1c4d31473e6e"
      },
      "execution_count": 16,
      "outputs": [
        {
          "output_type": "error",
          "ename": "InvalidArgumentError",
          "evalue": "{{function_node __wrapped__StridedSlice_device_/job:localhost/replica:0/task:0/device:CPU:0}} Expected begin, end, and strides to be 1D equal size tensors, but got shapes [1,1,1,1,50], [1,1,1,1,50], and [1] instead. [Op:StridedSlice] name: strided_slice/",
          "traceback": [
            "\u001b[0;31m---------------------------------------------------------------------------\u001b[0m",
            "\u001b[0;31mInvalidArgumentError\u001b[0m                      Traceback (most recent call last)",
            "\u001b[0;32m<ipython-input-16-62d9182c5bc5>\u001b[0m in \u001b[0;36m<cell line: 1>\u001b[0;34m()\u001b[0m\n\u001b[0;32m----> 1\u001b[0;31m \u001b[0mC\u001b[0m\u001b[0;34m[\u001b[0m\u001b[0mtf\u001b[0m\u001b[0;34m.\u001b[0m\u001b[0margmax\u001b[0m\u001b[0;34m(\u001b[0m\u001b[0mC\u001b[0m\u001b[0;34m)\u001b[0m\u001b[0;34m]\u001b[0m\u001b[0;34m\u001b[0m\u001b[0;34m\u001b[0m\u001b[0m\n\u001b[0m",
            "\u001b[0;32m/usr/local/lib/python3.10/dist-packages/tensorflow/python/util/traceback_utils.py\u001b[0m in \u001b[0;36merror_handler\u001b[0;34m(*args, **kwargs)\u001b[0m\n\u001b[1;32m    151\u001b[0m     \u001b[0;32mexcept\u001b[0m \u001b[0mException\u001b[0m \u001b[0;32mas\u001b[0m \u001b[0me\u001b[0m\u001b[0;34m:\u001b[0m\u001b[0;34m\u001b[0m\u001b[0;34m\u001b[0m\u001b[0m\n\u001b[1;32m    152\u001b[0m       \u001b[0mfiltered_tb\u001b[0m \u001b[0;34m=\u001b[0m \u001b[0m_process_traceback_frames\u001b[0m\u001b[0;34m(\u001b[0m\u001b[0me\u001b[0m\u001b[0;34m.\u001b[0m\u001b[0m__traceback__\u001b[0m\u001b[0;34m)\u001b[0m\u001b[0;34m\u001b[0m\u001b[0;34m\u001b[0m\u001b[0m\n\u001b[0;32m--> 153\u001b[0;31m       \u001b[0;32mraise\u001b[0m \u001b[0me\u001b[0m\u001b[0;34m.\u001b[0m\u001b[0mwith_traceback\u001b[0m\u001b[0;34m(\u001b[0m\u001b[0mfiltered_tb\u001b[0m\u001b[0;34m)\u001b[0m \u001b[0;32mfrom\u001b[0m \u001b[0;32mNone\u001b[0m\u001b[0;34m\u001b[0m\u001b[0;34m\u001b[0m\u001b[0m\n\u001b[0m\u001b[1;32m    154\u001b[0m     \u001b[0;32mfinally\u001b[0m\u001b[0;34m:\u001b[0m\u001b[0;34m\u001b[0m\u001b[0;34m\u001b[0m\u001b[0m\n\u001b[1;32m    155\u001b[0m       \u001b[0;32mdel\u001b[0m \u001b[0mfiltered_tb\u001b[0m\u001b[0;34m\u001b[0m\u001b[0;34m\u001b[0m\u001b[0m\n",
            "\u001b[0;32m/usr/local/lib/python3.10/dist-packages/tensorflow/python/framework/ops.py\u001b[0m in \u001b[0;36mraise_from_not_ok_status\u001b[0;34m(e, name)\u001b[0m\n\u001b[1;32m   5881\u001b[0m \u001b[0;32mdef\u001b[0m \u001b[0mraise_from_not_ok_status\u001b[0m\u001b[0;34m(\u001b[0m\u001b[0me\u001b[0m\u001b[0;34m,\u001b[0m \u001b[0mname\u001b[0m\u001b[0;34m)\u001b[0m \u001b[0;34m->\u001b[0m \u001b[0mNoReturn\u001b[0m\u001b[0;34m:\u001b[0m\u001b[0;34m\u001b[0m\u001b[0;34m\u001b[0m\u001b[0m\n\u001b[1;32m   5882\u001b[0m   \u001b[0me\u001b[0m\u001b[0;34m.\u001b[0m\u001b[0mmessage\u001b[0m \u001b[0;34m+=\u001b[0m \u001b[0;34m(\u001b[0m\u001b[0;34m\" name: \"\u001b[0m \u001b[0;34m+\u001b[0m \u001b[0mstr\u001b[0m\u001b[0;34m(\u001b[0m\u001b[0mname\u001b[0m \u001b[0;32mif\u001b[0m \u001b[0mname\u001b[0m \u001b[0;32mis\u001b[0m \u001b[0;32mnot\u001b[0m \u001b[0;32mNone\u001b[0m \u001b[0;32melse\u001b[0m \u001b[0;34m\"\"\u001b[0m\u001b[0;34m)\u001b[0m\u001b[0;34m)\u001b[0m\u001b[0;34m\u001b[0m\u001b[0;34m\u001b[0m\u001b[0m\n\u001b[0;32m-> 5883\u001b[0;31m   \u001b[0;32mraise\u001b[0m \u001b[0mcore\u001b[0m\u001b[0;34m.\u001b[0m\u001b[0m_status_to_exception\u001b[0m\u001b[0;34m(\u001b[0m\u001b[0me\u001b[0m\u001b[0;34m)\u001b[0m \u001b[0;32mfrom\u001b[0m \u001b[0;32mNone\u001b[0m  \u001b[0;31m# pylint: disable=protected-access\u001b[0m\u001b[0;34m\u001b[0m\u001b[0;34m\u001b[0m\u001b[0m\n\u001b[0m\u001b[1;32m   5884\u001b[0m \u001b[0;34m\u001b[0m\u001b[0m\n\u001b[1;32m   5885\u001b[0m \u001b[0;34m\u001b[0m\u001b[0m\n",
            "\u001b[0;31mInvalidArgumentError\u001b[0m: {{function_node __wrapped__StridedSlice_device_/job:localhost/replica:0/task:0/device:CPU:0}} Expected begin, end, and strides to be 1D equal size tensors, but got shapes [1,1,1,1,50], [1,1,1,1,50], and [1] instead. [Op:StridedSlice] name: strided_slice/"
          ]
        }
      ]
    },
    {
      "cell_type": "code",
      "source": [
        "tf.one_hot(indices=[0,1,2,3],depth=4,on_value=\"Yo i love deep learning\",off_value=\"I also like to dance\")"
      ],
      "metadata": {
        "colab": {
          "base_uri": "https://localhost:8080/"
        },
        "id": "L-vpJcYgPQGu",
        "outputId": "14a1d43e-2a2c-4b4b-9098-cc0714c8f351"
      },
      "execution_count": 17,
      "outputs": [
        {
          "output_type": "execute_result",
          "data": {
            "text/plain": [
              "<tf.Tensor: shape=(4, 4), dtype=string, numpy=\n",
              "array([[b'Yo i love deep learning', b'I also like to dance',\n",
              "        b'I also like to dance', b'I also like to dance'],\n",
              "       [b'I also like to dance', b'Yo i love deep learning',\n",
              "        b'I also like to dance', b'I also like to dance'],\n",
              "       [b'I also like to dance', b'I also like to dance',\n",
              "        b'Yo i love deep learning', b'I also like to dance'],\n",
              "       [b'I also like to dance', b'I also like to dance',\n",
              "        b'I also like to dance', b'Yo i love deep learning']],\n",
              "      dtype=object)>"
            ]
          },
          "metadata": {},
          "execution_count": 17
        }
      ]
    },
    {
      "cell_type": "code",
      "source": [
        "H=tf.random.normal((10,))\n",
        "H\n"
      ],
      "metadata": {
        "colab": {
          "base_uri": "https://localhost:8080/"
        },
        "id": "etDE7TqQdNLh",
        "outputId": "462af1c9-7fac-42a8-9406-a26374138c61"
      },
      "execution_count": 18,
      "outputs": [
        {
          "output_type": "execute_result",
          "data": {
            "text/plain": [
              "<tf.Tensor: shape=(10,), dtype=float32, numpy=\n",
              "array([ 8.4224582e-02, -8.6090374e-01,  3.7812304e-01, -5.1962738e-03,\n",
              "       -4.9453196e-01,  6.1781919e-01, -3.3082047e-01, -1.3840806e-03,\n",
              "       -4.2373410e-01, -1.3872087e+00], dtype=float32)>"
            ]
          },
          "metadata": {},
          "execution_count": 18
        }
      ]
    },
    {
      "cell_type": "code",
      "source": [
        "tf.square(H)"
      ],
      "metadata": {
        "colab": {
          "base_uri": "https://localhost:8080/"
        },
        "id": "nKO7tV71enKc",
        "outputId": "65de15c4-551f-441d-b9a2-d0e62a158074"
      },
      "execution_count": 19,
      "outputs": [
        {
          "output_type": "execute_result",
          "data": {
            "text/plain": [
              "<tf.Tensor: shape=(10,), dtype=float32, numpy=\n",
              "array([7.0937802e-03, 7.4115527e-01, 1.4297704e-01, 2.7001261e-05,\n",
              "       2.4456187e-01, 3.8170055e-01, 1.0944218e-01, 1.9156791e-06,\n",
              "       1.7955059e-01, 1.9243480e+00], dtype=float32)>"
            ]
          },
          "metadata": {},
          "execution_count": 19
        }
      ]
    },
    {
      "cell_type": "code",
      "source": [
        "tf.sqrt(H)"
      ],
      "metadata": {
        "colab": {
          "base_uri": "https://localhost:8080/"
        },
        "id": "Y__qQFJZex-F",
        "outputId": "85e4d69a-93b3-4607-f4c0-2e5dca87b2e7"
      },
      "execution_count": 20,
      "outputs": [
        {
          "output_type": "execute_result",
          "data": {
            "text/plain": [
              "<tf.Tensor: shape=(10,), dtype=float32, numpy=\n",
              "array([0.29021472,        nan, 0.6149171 ,        nan,        nan,\n",
              "       0.78601474,        nan,        nan,        nan,        nan],\n",
              "      dtype=float32)>"
            ]
          },
          "metadata": {},
          "execution_count": 20
        }
      ]
    },
    {
      "cell_type": "code",
      "source": [
        "tf.math.log(tf.cast(H,dtype=tf.float16))"
      ],
      "metadata": {
        "colab": {
          "base_uri": "https://localhost:8080/"
        },
        "id": "cfZa2kisfalY",
        "outputId": "4a15c303-793e-4857-b9db-b4becb02c63b"
      },
      "execution_count": 21,
      "outputs": [
        {
          "output_type": "execute_result",
          "data": {
            "text/plain": [
              "<tf.Tensor: shape=(10,), dtype=float16, numpy=\n",
              "array([-2.475 ,     nan, -0.972 ,     nan,     nan, -0.4817,     nan,\n",
              "           nan,     nan,     nan], dtype=float16)>"
            ]
          },
          "metadata": {},
          "execution_count": 21
        }
      ]
    },
    {
      "cell_type": "code",
      "source": [
        "# prompt: generate confusion matrix with tensorflow\n",
        "\n",
        "\n",
        "import tensorflow as tf\n",
        "import numpy as np\n",
        "from sklearn.metrics import confusion_matrix\n",
        "\n",
        "y_true = np.array([0, 1, 2, 3, 4])\n",
        "y_pred = np.array([1, 0, 2, 4, 3])\n",
        "\n",
        "# Convert to tensors\n",
        "y_true = tf.convert_to_tensor(y_true)\n",
        "y_pred = tf.convert_to_tensor(y_pred)\n",
        "\n",
        "# Calculate confusion matrix\n",
        "confusion_matrix = tf.math.confusion_matrix(y_true, y_pred)\n",
        "\n",
        "# Print confusion matrix\n",
        "print(confusion_matrix)\n"
      ],
      "metadata": {
        "colab": {
          "base_uri": "https://localhost:8080/"
        },
        "id": "s5LDHOdGgaGW",
        "outputId": "25bb6aa5-3e41-44c8-8a14-45769bdb25af"
      },
      "execution_count": 22,
      "outputs": [
        {
          "output_type": "stream",
          "name": "stdout",
          "text": [
            "tf.Tensor(\n",
            "[[0 1 0 0 0]\n",
            " [1 0 0 0 0]\n",
            " [0 0 1 0 0]\n",
            " [0 0 0 0 1]\n",
            " [0 0 0 1 0]], shape=(5, 5), dtype=int32)\n"
          ]
        }
      ]
    },
    {
      "cell_type": "code",
      "source": [
        "import numpy as np\n",
        "import matplotlib.pyplot as plt\n",
        "import tensorflow as tf\n",
        "tf. __version__"
      ],
      "metadata": {
        "colab": {
          "base_uri": "https://localhost:8080/",
          "height": 36
        },
        "id": "rfxPZJ46DGHH",
        "outputId": "ca1a8966-edfc-42a8-d27e-89be6af06e6f"
      },
      "execution_count": 90,
      "outputs": [
        {
          "output_type": "execute_result",
          "data": {
            "text/plain": [
              "'2.15.0'"
            ],
            "application/vnd.google.colaboratory.intrinsic+json": {
              "type": "string"
            }
          },
          "metadata": {},
          "execution_count": 90
        }
      ]
    },
    {
      "cell_type": "code",
      "source": [
        "x=np.array([-7.0,-4.0,-1.0,2.0,5.0,8.0,11.0,14.0])\n",
        "y=np.array([3.0,6.0,9.0,12.0,15.0,18.0,21.0,24.0])\n",
        "\n",
        "plt.scatter(x,y)"
      ],
      "metadata": {
        "colab": {
          "base_uri": "https://localhost:8080/",
          "height": 452
        },
        "id": "3juOjCjo4eQi",
        "outputId": "b675c5b6-5335-48a3-9a21-3ffde4f111a7"
      },
      "execution_count": 92,
      "outputs": [
        {
          "output_type": "execute_result",
          "data": {
            "text/plain": [
              "<matplotlib.collections.PathCollection at 0x7f7bef6bc6a0>"
            ]
          },
          "metadata": {},
          "execution_count": 92
        },
        {
          "output_type": "display_data",
          "data": {
            "text/plain": [
              "<Figure size 640x480 with 1 Axes>"
            ],
            "image/png": "[encoded data removed]"
          },
          "metadata": {}
        }
      ]
    },
    {
      "cell_type": "code",
      "source": [
        "#turn numpy arrays to tensors\n",
        "x=tf.constant(x)\n",
        "y=tf.constant(y)\n",
        "\n",
        "\n",
        "#create model using sequential API\n",
        "model=tf.keras.Sequential([\n",
        "     tf.keras.layers.Dense(50, activation=None),\n",
        "     tf.keras.layers.Dense(1),\n",
        "])\n",
        "\n",
        "#compile the model\n",
        "model.compile(loss=\"mae\",\n",
        "              optimizer=tf.keras.optimizers.Adam(lr=0.01),\n",
        "              metrics=[\"mae\"])\n",
        "\n",
        "#fit the model\n",
        "model.fit(tf.expand_dims(x, axis=-1), y, epochs=450)"
      ],
      "metadata": {
        "colab": {
          "base_uri": "https://localhost:8080/"
        },
        "id": "bZDarK4G5F-6",
        "outputId": "c0c52ed6-f3a4-49bf-d00d-10a8f29c3683"
      },
      "execution_count": 93,
      "outputs": [
        {
          "output_type": "stream",
          "name": "stderr",
          "text": [
            "WARNING:absl:`lr` is deprecated in Keras optimizer, please use `learning_rate` or use the legacy optimizer, e.g.,tf.keras.optimizers.legacy.Adam.\n"
          ]
        },
        {
          "output_type": "stream",
          "name": "stdout",
          "text": [
            "Epoch 1/450\n",
            "1/1 [==============================] - 2s 2s/step - loss: 13.0704 - mae: 13.0704\n",
            "Epoch 2/450\n",
            "1/1 [==============================] - 0s 43ms/step - loss: 13.0112 - mae: 13.0112\n",
            "Epoch 3/450\n",
            "1/1 [==============================] - 0s 30ms/step - loss: 12.9520 - mae: 12.9520\n",
            "Epoch 4/450\n",
            "1/1 [==============================] - 0s 26ms/step - loss: 12.8928 - mae: 12.8928\n",
            "Epoch 5/450\n",
            "1/1 [==============================] - 0s 26ms/step - loss: 12.8334 - mae: 12.8334\n",
            "Epoch 6/450\n",
            "1/1 [==============================] - 0s 49ms/step - loss: 12.7740 - mae: 12.7740\n",
            "Epoch 7/450\n",
            "1/1 [==============================] - 0s 17ms/step - loss: 12.7145 - mae: 12.7145\n",
            "Epoch 8/450\n",
            "1/1 [==============================] - 0s 16ms/step - loss: 12.6549 - mae: 12.6549\n",
            "Epoch 9/450\n",
            "1/1 [==============================] - 0s 40ms/step - loss: 12.5952 - mae: 12.5952\n",
            "Epoch 10/450\n",
            "1/1 [==============================] - 0s 31ms/step - loss: 12.5354 - mae: 12.5354\n",
            "Epoch 11/450\n",
            "1/1 [==============================] - 0s 40ms/step - loss: 12.4755 - mae: 12.4755\n",
            "Epoch 12/450\n",
            "1/1 [==============================] - 0s 44ms/step - loss: 12.4156 - mae: 12.4156\n",
            "Epoch 13/450\n",
            "1/1 [==============================] - 0s 18ms/step - loss: 12.3555 - mae: 12.3555\n",
            "Epoch 14/450\n",
            "1/1 [==============================] - 0s 30ms/step - loss: 12.2953 - mae: 12.2953\n",
            "Epoch 15/450\n",
            "1/1 [==============================] - 0s 56ms/step - loss: 12.2350 - mae: 12.2350\n",
            "Epoch 16/450\n",
            "1/1 [==============================] - 0s 46ms/step - loss: 12.1745 - mae: 12.1745\n",
            "Epoch 17/450\n",
            "1/1 [==============================] - 0s 40ms/step - loss: 12.1139 - mae: 12.1139\n",
            "Epoch 18/450\n",
            "1/1 [==============================] - 0s 33ms/step - loss: 12.0532 - mae: 12.0532\n",
            "Epoch 19/450\n",
            "1/1 [==============================] - 0s 29ms/step - loss: 11.9923 - mae: 11.9923\n",
            "Epoch 20/450\n",
            "1/1 [==============================] - 0s 22ms/step - loss: 11.9313 - mae: 11.9313\n",
            "Epoch 21/450\n",
            "1/1 [==============================] - 0s 21ms/step - loss: 11.8700 - mae: 11.8700\n",
            "Epoch 22/450\n",
            "1/1 [==============================] - 0s 21ms/step - loss: 11.8086 - mae: 11.8086\n",
            "Epoch 23/450\n",
            "1/1 [==============================] - 0s 25ms/step - loss: 11.7471 - mae: 11.7471\n",
            "Epoch 24/450\n",
            "1/1 [==============================] - 0s 20ms/step - loss: 11.6853 - mae: 11.6853\n",
            "Epoch 25/450\n",
            "1/1 [==============================] - 0s 24ms/step - loss: 11.6233 - mae: 11.6233\n",
            "Epoch 26/450\n",
            "1/1 [==============================] - 0s 20ms/step - loss: 11.5611 - mae: 11.5611\n",
            "Epoch 27/450\n",
            "1/1 [==============================] - 0s 21ms/step - loss: 11.4987 - mae: 11.4987\n",
            "Epoch 28/450\n",
            "1/1 [==============================] - 0s 41ms/step - loss: 11.4361 - mae: 11.4361\n",
            "Epoch 29/450\n",
            "1/1 [==============================] - 0s 22ms/step - loss: 11.3733 - mae: 11.3733\n",
            "Epoch 30/450\n",
            "1/1 [==============================] - 0s 32ms/step - loss: 11.3102 - mae: 11.3102\n",
            "Epoch 31/450\n",
            "1/1 [==============================] - 0s 27ms/step - loss: 11.2468 - mae: 11.2468\n",
            "Epoch 32/450\n",
            "1/1 [==============================] - 0s 32ms/step - loss: 11.1832 - mae: 11.1832\n",
            "Epoch 33/450\n",
            "1/1 [==============================] - 0s 24ms/step - loss: 11.1194 - mae: 11.1194\n",
            "Epoch 34/450\n",
            "1/1 [==============================] - 0s 27ms/step - loss: 11.0552 - mae: 11.0552\n",
            "Epoch 35/450\n",
            "1/1 [==============================] - 0s 28ms/step - loss: 10.9908 - mae: 10.9908\n",
            "Epoch 36/450\n",
            "1/1 [==============================] - 0s 31ms/step - loss: 10.9261 - mae: 10.9261\n",
            "Epoch 37/450\n",
            "1/1 [==============================] - 0s 28ms/step - loss: 10.8611 - mae: 10.8611\n",
            "Epoch 38/450\n",
            "1/1 [==============================] - 0s 24ms/step - loss: 10.7958 - mae: 10.7958\n",
            "Epoch 39/450\n",
            "1/1 [==============================] - 0s 28ms/step - loss: 10.7303 - mae: 10.7303\n",
            "Epoch 40/450\n",
            "1/1 [==============================] - 0s 22ms/step - loss: 10.6643 - mae: 10.6643\n",
            "Epoch 41/450\n",
            "1/1 [==============================] - 0s 21ms/step - loss: 10.5981 - mae: 10.5981\n",
            "Epoch 42/450\n",
            "1/1 [==============================] - 0s 26ms/step - loss: 10.5315 - mae: 10.5315\n",
            "Epoch 43/450\n",
            "1/1 [==============================] - 0s 23ms/step - loss: 10.4646 - mae: 10.4646\n",
            "Epoch 44/450\n",
            "1/1 [==============================] - 0s 29ms/step - loss: 10.3974 - mae: 10.3974\n",
            "Epoch 45/450\n",
            "1/1 [==============================] - 0s 24ms/step - loss: 10.3298 - mae: 10.3298\n",
            "Epoch 46/450\n",
            "1/1 [==============================] - 0s 23ms/step - loss: 10.2618 - mae: 10.2618\n",
            "Epoch 47/450\n",
            "1/1 [==============================] - 0s 24ms/step - loss: 10.1935 - mae: 10.1935\n",
            "Epoch 48/450\n",
            "1/1 [==============================] - 0s 23ms/step - loss: 10.1248 - mae: 10.1248\n",
            "Epoch 49/450\n",
            "1/1 [==============================] - 0s 29ms/step - loss: 10.0557 - mae: 10.0557\n",
            "Epoch 50/450\n",
            "1/1 [==============================] - 0s 22ms/step - loss: 9.9863 - mae: 9.9863\n",
            "Epoch 51/450\n",
            "1/1 [==============================] - 0s 26ms/step - loss: 9.9164 - mae: 9.9164\n",
            "Epoch 52/450\n",
            "1/1 [==============================] - 0s 20ms/step - loss: 9.8462 - mae: 9.8462\n",
            "Epoch 53/450\n",
            "1/1 [==============================] - 0s 26ms/step - loss: 9.7755 - mae: 9.7755\n",
            "Epoch 54/450\n",
            "1/1 [==============================] - 0s 20ms/step - loss: 9.7044 - mae: 9.7044\n",
            "Epoch 55/450\n",
            "1/1 [==============================] - 0s 27ms/step - loss: 9.6329 - mae: 9.6329\n",
            "Epoch 56/450\n",
            "1/1 [==============================] - 0s 24ms/step - loss: 9.5610 - mae: 9.5610\n",
            "Epoch 57/450\n",
            "1/1 [==============================] - 0s 29ms/step - loss: 9.4887 - mae: 9.4887\n",
            "Epoch 58/450\n",
            "1/1 [==============================] - 0s 25ms/step - loss: 9.4158 - mae: 9.4158\n",
            "Epoch 59/450\n",
            "1/1 [==============================] - 0s 28ms/step - loss: 9.3426 - mae: 9.3426\n",
            "Epoch 60/450\n",
            "1/1 [==============================] - 0s 28ms/step - loss: 9.2689 - mae: 9.2689\n",
            "Epoch 61/450\n",
            "1/1 [==============================] - 0s 25ms/step - loss: 9.1947 - mae: 9.1947\n",
            "Epoch 62/450\n",
            "1/1 [==============================] - 0s 30ms/step - loss: 9.1201 - mae: 9.1201\n",
            "Epoch 63/450\n",
            "1/1 [==============================] - 0s 34ms/step - loss: 9.0449 - mae: 9.0449\n",
            "Epoch 64/450\n",
            "1/1 [==============================] - 0s 34ms/step - loss: 8.9693 - mae: 8.9693\n",
            "Epoch 65/450\n",
            "1/1 [==============================] - 0s 23ms/step - loss: 8.8932 - mae: 8.8932\n",
            "Epoch 66/450\n",
            "1/1 [==============================] - 0s 28ms/step - loss: 8.8166 - mae: 8.8166\n",
            "Epoch 67/450\n",
            "1/1 [==============================] - 0s 24ms/step - loss: 8.7395 - mae: 8.7395\n",
            "Epoch 68/450\n",
            "1/1 [==============================] - 0s 17ms/step - loss: 8.6619 - mae: 8.6619\n",
            "Epoch 69/450\n",
            "1/1 [==============================] - 0s 34ms/step - loss: 8.5838 - mae: 8.5838\n",
            "Epoch 70/450\n",
            "1/1 [==============================] - 0s 34ms/step - loss: 8.5051 - mae: 8.5051\n",
            "Epoch 71/450\n",
            "1/1 [==============================] - 0s 18ms/step - loss: 8.4259 - mae: 8.4259\n",
            "Epoch 72/450\n",
            "1/1 [==============================] - 0s 23ms/step - loss: 8.3462 - mae: 8.3462\n",
            "Epoch 73/450\n",
            "1/1 [==============================] - 0s 20ms/step - loss: 8.2659 - mae: 8.2659\n",
            "Epoch 74/450\n",
            "1/1 [==============================] - 0s 47ms/step - loss: 8.1851 - mae: 8.1851\n",
            "Epoch 75/450\n",
            "1/1 [==============================] - 0s 27ms/step - loss: 8.1037 - mae: 8.1037\n",
            "Epoch 76/450\n",
            "1/1 [==============================] - 0s 19ms/step - loss: 8.0218 - mae: 8.0218\n",
            "Epoch 77/450\n",
            "1/1 [==============================] - 0s 18ms/step - loss: 7.9392 - mae: 7.9392\n",
            "Epoch 78/450\n",
            "1/1 [==============================] - 0s 20ms/step - loss: 7.8561 - mae: 7.8561\n",
            "Epoch 79/450\n",
            "1/1 [==============================] - 0s 23ms/step - loss: 7.7725 - mae: 7.7725\n",
            "Epoch 80/450\n",
            "1/1 [==============================] - 0s 27ms/step - loss: 7.6882 - mae: 7.6882\n",
            "Epoch 81/450\n",
            "1/1 [==============================] - 0s 24ms/step - loss: 7.6033 - mae: 7.6033\n",
            "Epoch 82/450\n",
            "1/1 [==============================] - 0s 37ms/step - loss: 7.5178 - mae: 7.5178\n",
            "Epoch 83/450\n",
            "1/1 [==============================] - 0s 21ms/step - loss: 7.4317 - mae: 7.4317\n",
            "Epoch 84/450\n",
            "1/1 [==============================] - 0s 21ms/step - loss: 7.3450 - mae: 7.3450\n",
            "Epoch 85/450\n",
            "1/1 [==============================] - 0s 23ms/step - loss: 7.2577 - mae: 7.2577\n",
            "Epoch 86/450\n",
            "1/1 [==============================] - 0s 13ms/step - loss: 7.1697 - mae: 7.1697\n",
            "Epoch 87/450\n",
            "1/1 [==============================] - 0s 18ms/step - loss: 7.0811 - mae: 7.0811\n",
            "Epoch 88/450\n",
            "1/1 [==============================] - 0s 17ms/step - loss: 6.9919 - mae: 6.9919\n",
            "Epoch 89/450\n",
            "1/1 [==============================] - 0s 16ms/step - loss: 6.9020 - mae: 6.9020\n",
            "Epoch 90/450\n",
            "1/1 [==============================] - 0s 17ms/step - loss: 6.8114 - mae: 6.8114\n",
            "Epoch 91/450\n",
            "1/1 [==============================] - 0s 18ms/step - loss: 6.7904 - mae: 6.7904\n",
            "Epoch 92/450\n",
            "1/1 [==============================] - 0s 15ms/step - loss: 6.7793 - mae: 6.7793\n",
            "Epoch 93/450\n",
            "1/1 [==============================] - 0s 13ms/step - loss: 6.7684 - mae: 6.7684\n",
            "Epoch 94/450\n",
            "1/1 [==============================] - 0s 18ms/step - loss: 6.7578 - mae: 6.7578\n",
            "Epoch 95/450\n",
            "1/1 [==============================] - 0s 21ms/step - loss: 6.7475 - mae: 6.7475\n",
            "Epoch 96/450\n",
            "1/1 [==============================] - 0s 14ms/step - loss: 6.7373 - mae: 6.7373\n",
            "Epoch 97/450\n",
            "1/1 [==============================] - 0s 16ms/step - loss: 6.7274 - mae: 6.7274\n",
            "Epoch 98/450\n",
            "1/1 [==============================] - 0s 30ms/step - loss: 6.7176 - mae: 6.7176\n",
            "Epoch 99/450\n",
            "1/1 [==============================] - 0s 20ms/step - loss: 6.7079 - mae: 6.7079\n",
            "Epoch 100/450\n",
            "1/1 [==============================] - 0s 21ms/step - loss: 6.6984 - mae: 6.6984\n",
            "Epoch 101/450\n",
            "1/1 [==============================] - 0s 18ms/step - loss: 6.6890 - mae: 6.6890\n",
            "Epoch 102/450\n",
            "1/1 [==============================] - 0s 23ms/step - loss: 6.6839 - mae: 6.6839\n",
            "Epoch 103/450\n",
            "1/1 [==============================] - 0s 52ms/step - loss: 6.6930 - mae: 6.6930\n",
            "Epoch 104/450\n",
            "1/1 [==============================] - 0s 35ms/step - loss: 6.6957 - mae: 6.6957\n",
            "Epoch 105/450\n",
            "1/1 [==============================] - 0s 34ms/step - loss: 6.6927 - mae: 6.6927\n",
            "Epoch 106/450\n",
            "1/1 [==============================] - 0s 39ms/step - loss: 6.6846 - mae: 6.6846\n",
            "Epoch 107/450\n",
            "1/1 [==============================] - 0s 27ms/step - loss: 6.6719 - mae: 6.6719\n",
            "Epoch 108/450\n",
            "1/1 [==============================] - 0s 30ms/step - loss: 6.6551 - mae: 6.6551\n",
            "Epoch 109/450\n",
            "1/1 [==============================] - 0s 25ms/step - loss: 6.6346 - mae: 6.6346\n",
            "Epoch 110/450\n",
            "1/1 [==============================] - 0s 35ms/step - loss: 6.6233 - mae: 6.6233\n",
            "Epoch 111/450\n",
            "1/1 [==============================] - 0s 29ms/step - loss: 6.6174 - mae: 6.6174\n",
            "Epoch 112/450\n",
            "1/1 [==============================] - 0s 42ms/step - loss: 6.6112 - mae: 6.6112\n",
            "Epoch 113/450\n",
            "1/1 [==============================] - 0s 31ms/step - loss: 6.6048 - mae: 6.6048\n",
            "Epoch 114/450\n",
            "1/1 [==============================] - 0s 38ms/step - loss: 6.5983 - mae: 6.5983\n",
            "Epoch 115/450\n",
            "1/1 [==============================] - 0s 38ms/step - loss: 6.5916 - mae: 6.5916\n",
            "Epoch 116/450\n",
            "1/1 [==============================] - 0s 22ms/step - loss: 6.5847 - mae: 6.5847\n",
            "Epoch 117/450\n",
            "1/1 [==============================] - 0s 40ms/step - loss: 6.5776 - mae: 6.5776\n",
            "Epoch 118/450\n",
            "1/1 [==============================] - 0s 29ms/step - loss: 6.5704 - mae: 6.5704\n",
            "Epoch 119/450\n",
            "1/1 [==============================] - 0s 25ms/step - loss: 6.5631 - mae: 6.5631\n",
            "Epoch 120/450\n",
            "1/1 [==============================] - 0s 40ms/step - loss: 6.5557 - mae: 6.5557\n",
            "Epoch 121/450\n",
            "1/1 [==============================] - 0s 22ms/step - loss: 6.5482 - mae: 6.5482\n",
            "Epoch 122/450\n",
            "1/1 [==============================] - 0s 23ms/step - loss: 6.5405 - mae: 6.5405\n",
            "Epoch 123/450\n",
            "1/1 [==============================] - 0s 25ms/step - loss: 6.5328 - mae: 6.5328\n",
            "Epoch 124/450\n",
            "1/1 [==============================] - 0s 29ms/step - loss: 6.5250 - mae: 6.5250\n",
            "Epoch 125/450\n",
            "1/1 [==============================] - 0s 39ms/step - loss: 6.5170 - mae: 6.5170\n",
            "Epoch 126/450\n",
            "1/1 [==============================] - 0s 30ms/step - loss: 6.5090 - mae: 6.5090\n",
            "Epoch 127/450\n",
            "1/1 [==============================] - 0s 33ms/step - loss: 6.5010 - mae: 6.5010\n",
            "Epoch 128/450\n",
            "1/1 [==============================] - 0s 20ms/step - loss: 6.4928 - mae: 6.4928\n",
            "Epoch 129/450\n",
            "1/1 [==============================] - 0s 31ms/step - loss: 6.4846 - mae: 6.4846\n",
            "Epoch 130/450\n",
            "1/1 [==============================] - 0s 33ms/step - loss: 6.4763 - mae: 6.4763\n",
            "Epoch 131/450\n",
            "1/1 [==============================] - 0s 36ms/step - loss: 6.4680 - mae: 6.4680\n",
            "Epoch 132/450\n",
            "1/1 [==============================] - 0s 38ms/step - loss: 6.4596 - mae: 6.4596\n",
            "Epoch 133/450\n",
            "1/1 [==============================] - 0s 29ms/step - loss: 6.4511 - mae: 6.4511\n",
            "Epoch 134/450\n",
            "1/1 [==============================] - 0s 32ms/step - loss: 6.4426 - mae: 6.4426\n",
            "Epoch 135/450\n",
            "1/1 [==============================] - 0s 51ms/step - loss: 6.4340 - mae: 6.4340\n",
            "Epoch 136/450\n",
            "1/1 [==============================] - 0s 40ms/step - loss: 6.4253 - mae: 6.4253\n",
            "Epoch 137/450\n",
            "1/1 [==============================] - 0s 41ms/step - loss: 6.4166 - mae: 6.4166\n",
            "Epoch 138/450\n",
            "1/1 [==============================] - 0s 33ms/step - loss: 6.4079 - mae: 6.4079\n",
            "Epoch 139/450\n",
            "1/1 [==============================] - 0s 46ms/step - loss: 6.3991 - mae: 6.3991\n",
            "Epoch 140/450\n",
            "1/1 [==============================] - 0s 62ms/step - loss: 6.3902 - mae: 6.3902\n",
            "Epoch 141/450\n",
            "1/1 [==============================] - 0s 29ms/step - loss: 6.3813 - mae: 6.3813\n",
            "Epoch 142/450\n",
            "1/1 [==============================] - 0s 26ms/step - loss: 6.3723 - mae: 6.3723\n",
            "Epoch 143/450\n",
            "1/1 [==============================] - 0s 35ms/step - loss: 6.3633 - mae: 6.3633\n",
            "Epoch 144/450\n",
            "1/1 [==============================] - 0s 38ms/step - loss: 6.3543 - mae: 6.3543\n",
            "Epoch 145/450\n",
            "1/1 [==============================] - 0s 48ms/step - loss: 6.3451 - mae: 6.3451\n",
            "Epoch 146/450\n",
            "1/1 [==============================] - 0s 45ms/step - loss: 6.3360 - mae: 6.3360\n",
            "Epoch 147/450\n",
            "1/1 [==============================] - 0s 27ms/step - loss: 6.3268 - mae: 6.3268\n",
            "Epoch 148/450\n",
            "1/1 [==============================] - 0s 33ms/step - loss: 6.3228 - mae: 6.3228\n",
            "Epoch 149/450\n",
            "1/1 [==============================] - 0s 28ms/step - loss: 6.3142 - mae: 6.3142\n",
            "Epoch 150/450\n",
            "1/1 [==============================] - 0s 23ms/step - loss: 6.3010 - mae: 6.3010\n",
            "Epoch 151/450\n",
            "1/1 [==============================] - 0s 34ms/step - loss: 6.2928 - mae: 6.2928\n",
            "Epoch 152/450\n",
            "1/1 [==============================] - 0s 24ms/step - loss: 6.2845 - mae: 6.2845\n",
            "Epoch 153/450\n",
            "1/1 [==============================] - 0s 58ms/step - loss: 6.2761 - mae: 6.2761\n",
            "Epoch 154/450\n",
            "1/1 [==============================] - 0s 35ms/step - loss: 6.2675 - mae: 6.2675\n",
            "Epoch 155/450\n",
            "1/1 [==============================] - 0s 78ms/step - loss: 6.2587 - mae: 6.2587\n",
            "Epoch 156/450\n",
            "1/1 [==============================] - 0s 40ms/step - loss: 6.2499 - mae: 6.2499\n",
            "Epoch 157/450\n",
            "1/1 [==============================] - 0s 36ms/step - loss: 6.2409 - mae: 6.2409\n",
            "Epoch 158/450\n",
            "1/1 [==============================] - 0s 53ms/step - loss: 6.2318 - mae: 6.2318\n",
            "Epoch 159/450\n",
            "1/1 [==============================] - 0s 25ms/step - loss: 6.2226 - mae: 6.2226\n",
            "Epoch 160/450\n",
            "1/1 [==============================] - 0s 37ms/step - loss: 6.2133 - mae: 6.2133\n",
            "Epoch 161/450\n",
            "1/1 [==============================] - 0s 75ms/step - loss: 6.2039 - mae: 6.2039\n",
            "Epoch 162/450\n",
            "1/1 [==============================] - 0s 31ms/step - loss: 6.1966 - mae: 6.1966\n",
            "Epoch 163/450\n",
            "1/1 [==============================] - 0s 29ms/step - loss: 6.1856 - mae: 6.1856\n",
            "Epoch 164/450\n",
            "1/1 [==============================] - 0s 20ms/step - loss: 6.1767 - mae: 6.1767\n",
            "Epoch 165/450\n",
            "1/1 [==============================] - 0s 25ms/step - loss: 6.1676 - mae: 6.1676\n",
            "Epoch 166/450\n",
            "1/1 [==============================] - 0s 26ms/step - loss: 6.1584 - mae: 6.1584\n",
            "Epoch 167/450\n",
            "1/1 [==============================] - 0s 32ms/step - loss: 6.1490 - mae: 6.1490\n",
            "Epoch 168/450\n",
            "1/1 [==============================] - 0s 23ms/step - loss: 6.1395 - mae: 6.1395\n",
            "Epoch 169/450\n",
            "1/1 [==============================] - 0s 35ms/step - loss: 6.1321 - mae: 6.1321\n",
            "Epoch 170/450\n",
            "1/1 [==============================] - 0s 30ms/step - loss: 6.1211 - mae: 6.1211\n",
            "Epoch 171/450\n",
            "1/1 [==============================] - 0s 19ms/step - loss: 6.1120 - mae: 6.1120\n",
            "Epoch 172/450\n",
            "1/1 [==============================] - 0s 32ms/step - loss: 6.1027 - mae: 6.1027\n",
            "Epoch 173/450\n",
            "1/1 [==============================] - 0s 24ms/step - loss: 6.0933 - mae: 6.0933\n",
            "Epoch 174/450\n",
            "1/1 [==============================] - 0s 20ms/step - loss: 6.0838 - mae: 6.0838\n",
            "Epoch 175/450\n",
            "1/1 [==============================] - 0s 21ms/step - loss: 6.0741 - mae: 6.0741\n",
            "Epoch 176/450\n",
            "1/1 [==============================] - 0s 30ms/step - loss: 6.0643 - mae: 6.0643\n",
            "Epoch 177/450\n",
            "1/1 [==============================] - 0s 26ms/step - loss: 6.0543 - mae: 6.0543\n",
            "Epoch 178/450\n",
            "1/1 [==============================] - 0s 20ms/step - loss: 6.0447 - mae: 6.0447\n",
            "Epoch 179/450\n",
            "1/1 [==============================] - 0s 26ms/step - loss: 6.0349 - mae: 6.0349\n",
            "Epoch 180/450\n",
            "1/1 [==============================] - 0s 29ms/step - loss: 6.0254 - mae: 6.0254\n",
            "Epoch 181/450\n",
            "1/1 [==============================] - 0s 27ms/step - loss: 6.0157 - mae: 6.0157\n",
            "Epoch 182/450\n",
            "1/1 [==============================] - 0s 33ms/step - loss: 6.0059 - mae: 6.0059\n",
            "Epoch 183/450\n",
            "1/1 [==============================] - 0s 42ms/step - loss: 5.9958 - mae: 5.9958\n",
            "Epoch 184/450\n",
            "1/1 [==============================] - 0s 27ms/step - loss: 5.9857 - mae: 5.9857\n",
            "Epoch 185/450\n",
            "1/1 [==============================] - 0s 20ms/step - loss: 5.9754 - mae: 5.9754\n",
            "Epoch 186/450\n",
            "1/1 [==============================] - 0s 24ms/step - loss: 5.9649 - mae: 5.9649\n",
            "Epoch 187/450\n",
            "1/1 [==============================] - 0s 12ms/step - loss: 5.9572 - mae: 5.9572\n",
            "Epoch 188/450\n",
            "1/1 [==============================] - 0s 15ms/step - loss: 5.9446 - mae: 5.9446\n",
            "Epoch 189/450\n",
            "1/1 [==============================] - 0s 13ms/step - loss: 5.9346 - mae: 5.9346\n",
            "Epoch 190/450\n",
            "1/1 [==============================] - 0s 17ms/step - loss: 5.9245 - mae: 5.9245\n",
            "Epoch 191/450\n",
            "1/1 [==============================] - 0s 34ms/step - loss: 5.9141 - mae: 5.9141\n",
            "Epoch 192/450\n",
            "1/1 [==============================] - 0s 24ms/step - loss: 5.9036 - mae: 5.9036\n",
            "Epoch 193/450\n",
            "1/1 [==============================] - 0s 22ms/step - loss: 5.8929 - mae: 5.8929\n",
            "Epoch 194/450\n",
            "1/1 [==============================] - 0s 21ms/step - loss: 5.8827 - mae: 5.8827\n",
            "Epoch 195/450\n",
            "1/1 [==============================] - 0s 22ms/step - loss: 5.8721 - mae: 5.8721\n",
            "Epoch 196/450\n",
            "1/1 [==============================] - 0s 13ms/step - loss: 5.8619 - mae: 5.8619\n",
            "Epoch 197/450\n",
            "1/1 [==============================] - 0s 11ms/step - loss: 5.8515 - mae: 5.8515\n",
            "Epoch 198/450\n",
            "1/1 [==============================] - 0s 11ms/step - loss: 5.8409 - mae: 5.8409\n",
            "Epoch 199/450\n",
            "1/1 [==============================] - 0s 19ms/step - loss: 5.8301 - mae: 5.8301\n",
            "Epoch 200/450\n",
            "1/1 [==============================] - 0s 23ms/step - loss: 5.8191 - mae: 5.8191\n",
            "Epoch 201/450\n",
            "1/1 [==============================] - 0s 19ms/step - loss: 5.8079 - mae: 5.8079\n",
            "Epoch 202/450\n",
            "1/1 [==============================] - 0s 19ms/step - loss: 5.7966 - mae: 5.7966\n",
            "Epoch 203/450\n",
            "1/1 [==============================] - 0s 18ms/step - loss: 5.7852 - mae: 5.7852\n",
            "Epoch 204/450\n",
            "1/1 [==============================] - 0s 19ms/step - loss: 5.7776 - mae: 5.7776\n",
            "Epoch 205/450\n",
            "1/1 [==============================] - 0s 17ms/step - loss: 5.7635 - mae: 5.7635\n",
            "Epoch 206/450\n",
            "1/1 [==============================] - 0s 19ms/step - loss: 5.7530 - mae: 5.7530\n",
            "Epoch 207/450\n",
            "1/1 [==============================] - 0s 33ms/step - loss: 5.7427 - mae: 5.7427\n",
            "Epoch 208/450\n",
            "1/1 [==============================] - 0s 18ms/step - loss: 5.7322 - mae: 5.7322\n",
            "Epoch 209/450\n",
            "1/1 [==============================] - 0s 34ms/step - loss: 5.7215 - mae: 5.7215\n",
            "Epoch 210/450\n",
            "1/1 [==============================] - 0s 23ms/step - loss: 5.7105 - mae: 5.7105\n",
            "Epoch 211/450\n",
            "1/1 [==============================] - 0s 17ms/step - loss: 5.6992 - mae: 5.6992\n",
            "Epoch 212/450\n",
            "1/1 [==============================] - 0s 30ms/step - loss: 5.6878 - mae: 5.6878\n",
            "Epoch 213/450\n",
            "1/1 [==============================] - 0s 18ms/step - loss: 5.6761 - mae: 5.6761\n",
            "Epoch 214/450\n",
            "1/1 [==============================] - 0s 31ms/step - loss: 5.6643 - mae: 5.6643\n",
            "Epoch 215/450\n",
            "1/1 [==============================] - 0s 24ms/step - loss: 5.6522 - mae: 5.6522\n",
            "Epoch 216/450\n",
            "1/1 [==============================] - 0s 19ms/step - loss: 5.6400 - mae: 5.6400\n",
            "Epoch 217/450\n",
            "1/1 [==============================] - 0s 26ms/step - loss: 5.6277 - mae: 5.6277\n",
            "Epoch 218/450\n",
            "1/1 [==============================] - 0s 21ms/step - loss: 5.6152 - mae: 5.6152\n",
            "Epoch 219/450\n",
            "1/1 [==============================] - 0s 16ms/step - loss: 5.6025 - mae: 5.6025\n",
            "Epoch 220/450\n",
            "1/1 [==============================] - 0s 21ms/step - loss: 5.5897 - mae: 5.5897\n",
            "Epoch 221/450\n",
            "1/1 [==============================] - 0s 30ms/step - loss: 5.5768 - mae: 5.5768\n",
            "Epoch 222/450\n",
            "1/1 [==============================] - 0s 19ms/step - loss: 5.5690 - mae: 5.5690\n",
            "Epoch 223/450\n",
            "1/1 [==============================] - 0s 37ms/step - loss: 5.5554 - mae: 5.5554\n",
            "Epoch 224/450\n",
            "1/1 [==============================] - 0s 33ms/step - loss: 5.5404 - mae: 5.5404\n",
            "Epoch 225/450\n",
            "1/1 [==============================] - 0s 35ms/step - loss: 5.5289 - mae: 5.5289\n",
            "Epoch 226/450\n",
            "1/1 [==============================] - 0s 19ms/step - loss: 5.5171 - mae: 5.5171\n",
            "Epoch 227/450\n",
            "1/1 [==============================] - 0s 36ms/step - loss: 5.5050 - mae: 5.5050\n",
            "Epoch 228/450\n",
            "1/1 [==============================] - 0s 16ms/step - loss: 5.4926 - mae: 5.4926\n",
            "Epoch 229/450\n",
            "1/1 [==============================] - 0s 16ms/step - loss: 5.4800 - mae: 5.4800\n",
            "Epoch 230/450\n",
            "1/1 [==============================] - 0s 19ms/step - loss: 5.4672 - mae: 5.4672\n",
            "Epoch 231/450\n",
            "1/1 [==============================] - 0s 15ms/step - loss: 5.4542 - mae: 5.4542\n",
            "Epoch 232/450\n",
            "1/1 [==============================] - 0s 31ms/step - loss: 5.4410 - mae: 5.4410\n",
            "Epoch 233/450\n",
            "1/1 [==============================] - 0s 26ms/step - loss: 5.4276 - mae: 5.4276\n",
            "Epoch 234/450\n",
            "1/1 [==============================] - 0s 17ms/step - loss: 5.4140 - mae: 5.4140\n",
            "Epoch 235/450\n",
            "1/1 [==============================] - 0s 21ms/step - loss: 5.4002 - mae: 5.4002\n",
            "Epoch 236/450\n",
            "1/1 [==============================] - 0s 22ms/step - loss: 5.3863 - mae: 5.3863\n",
            "Epoch 237/450\n",
            "1/1 [==============================] - 0s 38ms/step - loss: 5.3763 - mae: 5.3763\n",
            "Epoch 238/450\n",
            "1/1 [==============================] - 0s 32ms/step - loss: 5.3607 - mae: 5.3607\n",
            "Epoch 239/450\n",
            "1/1 [==============================] - 0s 16ms/step - loss: 5.3469 - mae: 5.3469\n",
            "Epoch 240/450\n",
            "1/1 [==============================] - 0s 15ms/step - loss: 5.3344 - mae: 5.3344\n",
            "Epoch 241/450\n",
            "1/1 [==============================] - 0s 21ms/step - loss: 5.3216 - mae: 5.3216\n",
            "Epoch 242/450\n",
            "1/1 [==============================] - 0s 17ms/step - loss: 5.3085 - mae: 5.3085\n",
            "Epoch 243/450\n",
            "1/1 [==============================] - 0s 14ms/step - loss: 5.2951 - mae: 5.2951\n",
            "Epoch 244/450\n",
            "1/1 [==============================] - 0s 28ms/step - loss: 5.2814 - mae: 5.2814\n",
            "Epoch 245/450\n",
            "1/1 [==============================] - 0s 22ms/step - loss: 5.2675 - mae: 5.2675\n",
            "Epoch 246/450\n",
            "1/1 [==============================] - 0s 38ms/step - loss: 5.2533 - mae: 5.2533\n",
            "Epoch 247/450\n",
            "1/1 [==============================] - 0s 18ms/step - loss: 5.2389 - mae: 5.2389\n",
            "Epoch 248/450\n",
            "1/1 [==============================] - 0s 26ms/step - loss: 5.2243 - mae: 5.2243\n",
            "Epoch 249/450\n",
            "1/1 [==============================] - 0s 21ms/step - loss: 5.2095 - mae: 5.2095\n",
            "Epoch 250/450\n",
            "1/1 [==============================] - 0s 39ms/step - loss: 5.1946 - mae: 5.1946\n",
            "Epoch 251/450\n",
            "1/1 [==============================] - 0s 18ms/step - loss: 5.1794 - mae: 5.1794\n",
            "Epoch 252/450\n",
            "1/1 [==============================] - 0s 17ms/step - loss: 5.1641 - mae: 5.1641\n",
            "Epoch 253/450\n",
            "1/1 [==============================] - 0s 15ms/step - loss: 5.1515 - mae: 5.1515\n",
            "Epoch 254/450\n",
            "1/1 [==============================] - 0s 28ms/step - loss: 5.1348 - mae: 5.1348\n",
            "Epoch 255/450\n",
            "1/1 [==============================] - 0s 25ms/step - loss: 5.1207 - mae: 5.1207\n",
            "Epoch 256/450\n",
            "1/1 [==============================] - 0s 15ms/step - loss: 5.1069 - mae: 5.1069\n",
            "Epoch 257/450\n",
            "1/1 [==============================] - 0s 29ms/step - loss: 5.0927 - mae: 5.0927\n",
            "Epoch 258/450\n",
            "1/1 [==============================] - 0s 21ms/step - loss: 5.0783 - mae: 5.0783\n",
            "Epoch 259/450\n",
            "1/1 [==============================] - 0s 30ms/step - loss: 5.0635 - mae: 5.0635\n",
            "Epoch 260/450\n",
            "1/1 [==============================] - 0s 17ms/step - loss: 5.0484 - mae: 5.0484\n",
            "Epoch 261/450\n",
            "1/1 [==============================] - 0s 17ms/step - loss: 5.0331 - mae: 5.0331\n",
            "Epoch 262/450\n",
            "1/1 [==============================] - 0s 16ms/step - loss: 5.0175 - mae: 5.0175\n",
            "Epoch 263/450\n",
            "1/1 [==============================] - 0s 25ms/step - loss: 5.0017 - mae: 5.0017\n",
            "Epoch 264/450\n",
            "1/1 [==============================] - 0s 19ms/step - loss: 4.9856 - mae: 4.9856\n",
            "Epoch 265/450\n",
            "1/1 [==============================] - 0s 27ms/step - loss: 4.9694 - mae: 4.9694\n",
            "Epoch 266/450\n",
            "1/1 [==============================] - 0s 24ms/step - loss: 4.9529 - mae: 4.9529\n",
            "Epoch 267/450\n",
            "1/1 [==============================] - 0s 29ms/step - loss: 4.9363 - mae: 4.9363\n",
            "Epoch 268/450\n",
            "1/1 [==============================] - 0s 38ms/step - loss: 4.9194 - mae: 4.9194\n",
            "Epoch 269/450\n",
            "1/1 [==============================] - 0s 16ms/step - loss: 4.9064 - mae: 4.9064\n",
            "Epoch 270/450\n",
            "1/1 [==============================] - 0s 26ms/step - loss: 4.8881 - mae: 4.8881\n",
            "Epoch 271/450\n",
            "1/1 [==============================] - 0s 20ms/step - loss: 4.8717 - mae: 4.8717\n",
            "Epoch 272/450\n",
            "1/1 [==============================] - 0s 23ms/step - loss: 4.8564 - mae: 4.8564\n",
            "Epoch 273/450\n",
            "1/1 [==============================] - 0s 21ms/step - loss: 4.8408 - mae: 4.8408\n",
            "Epoch 274/450\n",
            "1/1 [==============================] - 0s 18ms/step - loss: 4.8249 - mae: 4.8249\n",
            "Epoch 275/450\n",
            "1/1 [==============================] - 0s 27ms/step - loss: 4.8086 - mae: 4.8086\n",
            "Epoch 276/450\n",
            "1/1 [==============================] - 0s 33ms/step - loss: 4.7920 - mae: 4.7920\n",
            "Epoch 277/450\n",
            "1/1 [==============================] - 0s 21ms/step - loss: 4.7751 - mae: 4.7751\n",
            "Epoch 278/450\n",
            "1/1 [==============================] - 0s 24ms/step - loss: 4.7580 - mae: 4.7580\n",
            "Epoch 279/450\n",
            "1/1 [==============================] - 0s 12ms/step - loss: 4.7406 - mae: 4.7406\n",
            "Epoch 280/450\n",
            "1/1 [==============================] - 0s 13ms/step - loss: 4.7230 - mae: 4.7230\n",
            "Epoch 281/450\n",
            "1/1 [==============================] - 0s 19ms/step - loss: 4.7051 - mae: 4.7051\n",
            "Epoch 282/450\n",
            "1/1 [==============================] - 0s 18ms/step - loss: 4.6871 - mae: 4.6871\n",
            "Epoch 283/450\n",
            "1/1 [==============================] - 0s 31ms/step - loss: 4.6688 - mae: 4.6688\n",
            "Epoch 284/450\n",
            "1/1 [==============================] - 0s 24ms/step - loss: 4.6503 - mae: 4.6503\n",
            "Epoch 285/450\n",
            "1/1 [==============================] - 0s 33ms/step - loss: 4.6356 - mae: 4.6356\n",
            "Epoch 286/450\n",
            "1/1 [==============================] - 0s 24ms/step - loss: 4.6153 - mae: 4.6153\n",
            "Epoch 287/450\n",
            "1/1 [==============================] - 0s 43ms/step - loss: 4.5978 - mae: 4.5978\n",
            "Epoch 288/450\n",
            "1/1 [==============================] - 0s 14ms/step - loss: 4.5810 - mae: 4.5810\n",
            "Epoch 289/450\n",
            "1/1 [==============================] - 0s 50ms/step - loss: 4.5638 - mae: 4.5638\n",
            "Epoch 290/450\n",
            "1/1 [==============================] - 0s 23ms/step - loss: 4.5462 - mae: 4.5462\n",
            "Epoch 291/450\n",
            "1/1 [==============================] - 0s 27ms/step - loss: 4.5283 - mae: 4.5283\n",
            "Epoch 292/450\n",
            "1/1 [==============================] - 0s 33ms/step - loss: 4.5100 - mae: 4.5100\n",
            "Epoch 293/450\n",
            "1/1 [==============================] - 0s 33ms/step - loss: 4.4915 - mae: 4.4915\n",
            "Epoch 294/450\n",
            "1/1 [==============================] - 0s 26ms/step - loss: 4.4727 - mae: 4.4727\n",
            "Epoch 295/450\n",
            "1/1 [==============================] - 0s 17ms/step - loss: 4.4536 - mae: 4.4536\n",
            "Epoch 296/450\n",
            "1/1 [==============================] - 0s 24ms/step - loss: 4.4342 - mae: 4.4342\n",
            "Epoch 297/450\n",
            "1/1 [==============================] - 0s 34ms/step - loss: 4.4146 - mae: 4.4146\n",
            "Epoch 298/450\n",
            "1/1 [==============================] - 0s 20ms/step - loss: 4.3948 - mae: 4.3948\n",
            "Epoch 299/450\n",
            "1/1 [==============================] - 0s 30ms/step - loss: 4.3748 - mae: 4.3748\n",
            "Epoch 300/450\n",
            "1/1 [==============================] - 0s 28ms/step - loss: 4.3545 - mae: 4.3545\n",
            "Epoch 301/450\n",
            "1/1 [==============================] - 0s 19ms/step - loss: 4.3348 - mae: 4.3348\n",
            "Epoch 302/450\n",
            "1/1 [==============================] - 0s 19ms/step - loss: 4.3149 - mae: 4.3149\n",
            "Epoch 303/450\n",
            "1/1 [==============================] - 0s 19ms/step - loss: 4.2953 - mae: 4.2953\n",
            "Epoch 304/450\n",
            "1/1 [==============================] - 0s 23ms/step - loss: 4.2755 - mae: 4.2755\n",
            "Epoch 305/450\n",
            "1/1 [==============================] - 0s 15ms/step - loss: 4.2554 - mae: 4.2554\n",
            "Epoch 306/450\n",
            "1/1 [==============================] - 0s 11ms/step - loss: 4.2352 - mae: 4.2352\n",
            "Epoch 307/450\n",
            "1/1 [==============================] - 0s 30ms/step - loss: 4.2158 - mae: 4.2158\n",
            "Epoch 308/450\n",
            "1/1 [==============================] - 0s 27ms/step - loss: 4.1962 - mae: 4.1962\n",
            "Epoch 309/450\n",
            "1/1 [==============================] - 0s 14ms/step - loss: 4.1762 - mae: 4.1762\n",
            "Epoch 310/450\n",
            "1/1 [==============================] - 0s 17ms/step - loss: 4.1559 - mae: 4.1559\n",
            "Epoch 311/450\n",
            "1/1 [==============================] - 0s 23ms/step - loss: 4.1353 - mae: 4.1353\n",
            "Epoch 312/450\n",
            "1/1 [==============================] - 0s 36ms/step - loss: 4.1144 - mae: 4.1144\n",
            "Epoch 313/450\n",
            "1/1 [==============================] - 0s 31ms/step - loss: 4.0932 - mae: 4.0932\n",
            "Epoch 314/450\n",
            "1/1 [==============================] - 0s 19ms/step - loss: 4.0717 - mae: 4.0717\n",
            "Epoch 315/450\n",
            "1/1 [==============================] - 0s 17ms/step - loss: 4.0500 - mae: 4.0500\n",
            "Epoch 316/450\n",
            "1/1 [==============================] - 0s 38ms/step - loss: 4.0280 - mae: 4.0280\n",
            "Epoch 317/450\n",
            "1/1 [==============================] - 0s 22ms/step - loss: 4.0099 - mae: 4.0099\n",
            "Epoch 318/450\n",
            "1/1 [==============================] - 0s 15ms/step - loss: 3.9849 - mae: 3.9849\n",
            "Epoch 319/450\n",
            "1/1 [==============================] - 0s 19ms/step - loss: 3.9636 - mae: 3.9636\n",
            "Epoch 320/450\n",
            "1/1 [==============================] - 0s 17ms/step - loss: 3.9420 - mae: 3.9420\n",
            "Epoch 321/450\n",
            "1/1 [==============================] - 0s 18ms/step - loss: 3.9201 - mae: 3.9201\n",
            "Epoch 322/450\n",
            "1/1 [==============================] - 0s 22ms/step - loss: 3.8978 - mae: 3.8978\n",
            "Epoch 323/450\n",
            "1/1 [==============================] - 0s 26ms/step - loss: 3.8753 - mae: 3.8753\n",
            "Epoch 324/450\n",
            "1/1 [==============================] - 0s 32ms/step - loss: 3.8559 - mae: 3.8559\n",
            "Epoch 325/450\n",
            "1/1 [==============================] - 0s 25ms/step - loss: 3.8310 - mae: 3.8310\n",
            "Epoch 326/450\n",
            "1/1 [==============================] - 0s 24ms/step - loss: 3.8091 - mae: 3.8091\n",
            "Epoch 327/450\n",
            "1/1 [==============================] - 0s 24ms/step - loss: 3.7868 - mae: 3.7868\n",
            "Epoch 328/450\n",
            "1/1 [==============================] - 0s 21ms/step - loss: 3.7642 - mae: 3.7642\n",
            "Epoch 329/450\n",
            "1/1 [==============================] - 0s 20ms/step - loss: 3.7412 - mae: 3.7412\n",
            "Epoch 330/450\n",
            "1/1 [==============================] - 0s 25ms/step - loss: 3.7180 - mae: 3.7180\n",
            "Epoch 331/450\n",
            "1/1 [==============================] - 0s 22ms/step - loss: 3.6944 - mae: 3.6944\n",
            "Epoch 332/450\n",
            "1/1 [==============================] - 0s 40ms/step - loss: 3.6706 - mae: 3.6706\n",
            "Epoch 333/450\n",
            "1/1 [==============================] - 0s 45ms/step - loss: 3.6465 - mae: 3.6465\n",
            "Epoch 334/450\n",
            "1/1 [==============================] - 0s 22ms/step - loss: 3.6276 - mae: 3.6276\n",
            "Epoch 335/450\n",
            "1/1 [==============================] - 0s 26ms/step - loss: 3.5991 - mae: 3.5991\n",
            "Epoch 336/450\n",
            "1/1 [==============================] - 0s 29ms/step - loss: 3.5757 - mae: 3.5757\n",
            "Epoch 337/450\n",
            "1/1 [==============================] - 0s 41ms/step - loss: 3.5520 - mae: 3.5520\n",
            "Epoch 338/450\n",
            "1/1 [==============================] - 0s 51ms/step - loss: 3.5279 - mae: 3.5279\n",
            "Epoch 339/450\n",
            "1/1 [==============================] - 0s 29ms/step - loss: 3.5034 - mae: 3.5034\n",
            "Epoch 340/450\n",
            "1/1 [==============================] - 0s 25ms/step - loss: 3.4787 - mae: 3.4787\n",
            "Epoch 341/450\n",
            "1/1 [==============================] - 0s 27ms/step - loss: 3.4537 - mae: 3.4537\n",
            "Epoch 342/450\n",
            "1/1 [==============================] - 0s 23ms/step - loss: 3.4329 - mae: 3.4329\n",
            "Epoch 343/450\n",
            "1/1 [==============================] - 0s 30ms/step - loss: 3.4045 - mae: 3.4045\n",
            "Epoch 344/450\n",
            "1/1 [==============================] - 0s 23ms/step - loss: 3.3801 - mae: 3.3801\n",
            "Epoch 345/450\n",
            "1/1 [==============================] - 0s 29ms/step - loss: 3.3554 - mae: 3.3554\n",
            "Epoch 346/450\n",
            "1/1 [==============================] - 0s 18ms/step - loss: 3.3303 - mae: 3.3303\n",
            "Epoch 347/450\n",
            "1/1 [==============================] - 0s 29ms/step - loss: 3.3049 - mae: 3.3049\n",
            "Epoch 348/450\n",
            "1/1 [==============================] - 0s 18ms/step - loss: 3.2792 - mae: 3.2792\n",
            "Epoch 349/450\n",
            "1/1 [==============================] - 0s 20ms/step - loss: 3.2531 - mae: 3.2531\n",
            "Epoch 350/450\n",
            "1/1 [==============================] - 0s 20ms/step - loss: 3.2268 - mae: 3.2268\n",
            "Epoch 351/450\n",
            "1/1 [==============================] - 0s 18ms/step - loss: 3.2005 - mae: 3.2005\n",
            "Epoch 352/450\n",
            "1/1 [==============================] - 0s 33ms/step - loss: 3.1750 - mae: 3.1750\n",
            "Epoch 353/450\n",
            "1/1 [==============================] - 0s 30ms/step - loss: 3.1494 - mae: 3.1494\n",
            "Epoch 354/450\n",
            "1/1 [==============================] - 0s 27ms/step - loss: 3.1234 - mae: 3.1234\n",
            "Epoch 355/450\n",
            "1/1 [==============================] - 0s 21ms/step - loss: 3.0970 - mae: 3.0970\n",
            "Epoch 356/450\n",
            "1/1 [==============================] - 0s 11ms/step - loss: 3.0703 - mae: 3.0703\n",
            "Epoch 357/450\n",
            "1/1 [==============================] - 0s 18ms/step - loss: 3.0432 - mae: 3.0432\n",
            "Epoch 358/450\n",
            "1/1 [==============================] - 0s 41ms/step - loss: 3.0159 - mae: 3.0159\n",
            "Epoch 359/450\n",
            "1/1 [==============================] - 0s 23ms/step - loss: 2.9883 - mae: 2.9883\n",
            "Epoch 360/450\n",
            "1/1 [==============================] - 0s 25ms/step - loss: 2.9603 - mae: 2.9603\n",
            "Epoch 361/450\n",
            "1/1 [==============================] - 0s 22ms/step - loss: 2.9354 - mae: 2.9354\n",
            "Epoch 362/450\n",
            "1/1 [==============================] - 0s 39ms/step - loss: 2.9054 - mae: 2.9054\n",
            "Epoch 363/450\n",
            "1/1 [==============================] - 0s 21ms/step - loss: 2.8782 - mae: 2.8782\n",
            "Epoch 364/450\n",
            "1/1 [==============================] - 0s 25ms/step - loss: 2.8507 - mae: 2.8507\n",
            "Epoch 365/450\n",
            "1/1 [==============================] - 0s 31ms/step - loss: 2.8228 - mae: 2.8228\n",
            "Epoch 366/450\n",
            "1/1 [==============================] - 0s 14ms/step - loss: 2.7945 - mae: 2.7945\n",
            "Epoch 367/450\n",
            "1/1 [==============================] - 0s 31ms/step - loss: 2.7660 - mae: 2.7660\n",
            "Epoch 368/450\n",
            "1/1 [==============================] - 0s 23ms/step - loss: 2.7371 - mae: 2.7371\n",
            "Epoch 369/450\n",
            "1/1 [==============================] - 0s 14ms/step - loss: 2.7079 - mae: 2.7079\n",
            "Epoch 370/450\n",
            "1/1 [==============================] - 0s 19ms/step - loss: 2.6817 - mae: 2.6817\n",
            "Epoch 371/450\n",
            "1/1 [==============================] - 0s 20ms/step - loss: 2.6505 - mae: 2.6505\n",
            "Epoch 372/450\n",
            "1/1 [==============================] - 0s 23ms/step - loss: 2.6221 - mae: 2.6221\n",
            "Epoch 373/450\n",
            "1/1 [==============================] - 0s 30ms/step - loss: 2.5932 - mae: 2.5932\n",
            "Epoch 374/450\n",
            "1/1 [==============================] - 0s 37ms/step - loss: 2.5640 - mae: 2.5640\n",
            "Epoch 375/450\n",
            "1/1 [==============================] - 0s 26ms/step - loss: 2.5345 - mae: 2.5345\n",
            "Epoch 376/450\n",
            "1/1 [==============================] - 0s 32ms/step - loss: 2.5046 - mae: 2.5046\n",
            "Epoch 377/450\n",
            "1/1 [==============================] - 0s 21ms/step - loss: 2.4744 - mae: 2.4744\n",
            "Epoch 378/450\n",
            "1/1 [==============================] - 0s 34ms/step - loss: 2.4439 - mae: 2.4439\n",
            "Epoch 379/450\n",
            "1/1 [==============================] - 0s 16ms/step - loss: 2.4131 - mae: 2.4131\n",
            "Epoch 380/450\n",
            "1/1 [==============================] - 0s 10ms/step - loss: 2.3855 - mae: 2.3855\n",
            "Epoch 381/450\n",
            "1/1 [==============================] - 0s 13ms/step - loss: 2.3525 - mae: 2.3525\n",
            "Epoch 382/450\n",
            "1/1 [==============================] - 0s 16ms/step - loss: 2.3225 - mae: 2.3225\n",
            "Epoch 383/450\n",
            "1/1 [==============================] - 0s 13ms/step - loss: 2.2921 - mae: 2.2921\n",
            "Epoch 384/450\n",
            "1/1 [==============================] - 0s 19ms/step - loss: 2.2613 - mae: 2.2613\n",
            "Epoch 385/450\n",
            "1/1 [==============================] - 0s 26ms/step - loss: 2.2302 - mae: 2.2302\n",
            "Epoch 386/450\n",
            "1/1 [==============================] - 0s 17ms/step - loss: 2.1987 - mae: 2.1987\n",
            "Epoch 387/450\n",
            "1/1 [==============================] - 0s 29ms/step - loss: 2.1669 - mae: 2.1669\n",
            "Epoch 388/450\n",
            "1/1 [==============================] - 0s 34ms/step - loss: 2.1348 - mae: 2.1348\n",
            "Epoch 389/450\n",
            "1/1 [==============================] - 0s 37ms/step - loss: 2.1024 - mae: 2.1024\n",
            "Epoch 390/450\n",
            "1/1 [==============================] - 0s 22ms/step - loss: 2.0744 - mae: 2.0744\n",
            "Epoch 391/450\n",
            "1/1 [==============================] - 0s 28ms/step - loss: 2.0386 - mae: 2.0386\n",
            "Epoch 392/450\n",
            "1/1 [==============================] - 0s 43ms/step - loss: 2.0071 - mae: 2.0071\n",
            "Epoch 393/450\n",
            "1/1 [==============================] - 0s 27ms/step - loss: 1.9751 - mae: 1.9751\n",
            "Epoch 394/450\n",
            "1/1 [==============================] - 0s 26ms/step - loss: 1.9427 - mae: 1.9427\n",
            "Epoch 395/450\n",
            "1/1 [==============================] - 0s 13ms/step - loss: 1.9100 - mae: 1.9100\n",
            "Epoch 396/450\n",
            "1/1 [==============================] - 0s 22ms/step - loss: 1.8769 - mae: 1.8769\n",
            "Epoch 397/450\n",
            "1/1 [==============================] - 0s 52ms/step - loss: 1.8435 - mae: 1.8435\n",
            "Epoch 398/450\n",
            "1/1 [==============================] - 0s 31ms/step - loss: 1.8098 - mae: 1.8098\n",
            "Epoch 399/450\n",
            "1/1 [==============================] - 0s 15ms/step - loss: 1.7758 - mae: 1.7758\n",
            "Epoch 400/450\n",
            "1/1 [==============================] - 0s 28ms/step - loss: 1.7449 - mae: 1.7449\n",
            "Epoch 401/450\n",
            "1/1 [==============================] - 0s 23ms/step - loss: 1.7088 - mae: 1.7088\n",
            "Epoch 402/450\n",
            "1/1 [==============================] - 0s 19ms/step - loss: 1.6757 - mae: 1.6757\n",
            "Epoch 403/450\n",
            "1/1 [==============================] - 0s 15ms/step - loss: 1.6421 - mae: 1.6421\n",
            "Epoch 404/450\n",
            "1/1 [==============================] - 0s 41ms/step - loss: 1.6081 - mae: 1.6081\n",
            "Epoch 405/450\n",
            "1/1 [==============================] - 0s 21ms/step - loss: 1.5738 - mae: 1.5738\n",
            "Epoch 406/450\n",
            "1/1 [==============================] - 0s 21ms/step - loss: 1.5391 - mae: 1.5391\n",
            "Epoch 407/450\n",
            "1/1 [==============================] - 0s 36ms/step - loss: 1.5041 - mae: 1.5041\n",
            "Epoch 408/450\n",
            "1/1 [==============================] - 0s 15ms/step - loss: 1.4687 - mae: 1.4687\n",
            "Epoch 409/450\n",
            "1/1 [==============================] - 0s 22ms/step - loss: 1.4331 - mae: 1.4331\n",
            "Epoch 410/450\n",
            "1/1 [==============================] - 0s 30ms/step - loss: 1.3972 - mae: 1.3972\n",
            "Epoch 411/450\n",
            "1/1 [==============================] - 0s 31ms/step - loss: 1.3668 - mae: 1.3668\n",
            "Epoch 412/450\n",
            "1/1 [==============================] - 0s 38ms/step - loss: 1.3264 - mae: 1.3264\n",
            "Epoch 413/450\n",
            "1/1 [==============================] - 0s 32ms/step - loss: 1.2913 - mae: 1.2913\n",
            "Epoch 414/450\n",
            "1/1 [==============================] - 0s 34ms/step - loss: 1.2558 - mae: 1.2558\n",
            "Epoch 415/450\n",
            "1/1 [==============================] - 0s 26ms/step - loss: 1.2200 - mae: 1.2200\n",
            "Epoch 416/450\n",
            "1/1 [==============================] - 0s 19ms/step - loss: 1.1837 - mae: 1.1837\n",
            "Epoch 417/450\n",
            "1/1 [==============================] - 0s 51ms/step - loss: 1.1472 - mae: 1.1472\n",
            "Epoch 418/450\n",
            "1/1 [==============================] - 0s 36ms/step - loss: 1.1103 - mae: 1.1103\n",
            "Epoch 419/450\n",
            "1/1 [==============================] - 0s 22ms/step - loss: 1.0731 - mae: 1.0731\n",
            "Epoch 420/450\n",
            "1/1 [==============================] - 0s 18ms/step - loss: 1.0355 - mae: 1.0355\n",
            "Epoch 421/450\n",
            "1/1 [==============================] - 0s 30ms/step - loss: 0.9993 - mae: 0.9993\n",
            "Epoch 422/450\n",
            "1/1 [==============================] - 0s 19ms/step - loss: 0.9615 - mae: 0.9615\n",
            "Epoch 423/450\n",
            "1/1 [==============================] - 0s 19ms/step - loss: 0.9248 - mae: 0.9248\n",
            "Epoch 424/450\n",
            "1/1 [==============================] - 0s 25ms/step - loss: 0.8877 - mae: 0.8877\n",
            "Epoch 425/450\n",
            "1/1 [==============================] - 0s 25ms/step - loss: 0.8503 - mae: 0.8503\n",
            "Epoch 426/450\n",
            "1/1 [==============================] - 0s 21ms/step - loss: 0.8124 - mae: 0.8124\n",
            "Epoch 427/450\n",
            "1/1 [==============================] - 0s 19ms/step - loss: 0.7742 - mae: 0.7742\n",
            "Epoch 428/450\n",
            "1/1 [==============================] - 0s 12ms/step - loss: 0.7356 - mae: 0.7356\n",
            "Epoch 429/450\n",
            "1/1 [==============================] - 0s 39ms/step - loss: 0.6967 - mae: 0.6967\n",
            "Epoch 430/450\n",
            "1/1 [==============================] - 0s 21ms/step - loss: 0.6575 - mae: 0.6575\n",
            "Epoch 431/450\n",
            "1/1 [==============================] - 0s 34ms/step - loss: 0.6180 - mae: 0.6180\n",
            "Epoch 432/450\n",
            "1/1 [==============================] - 0s 24ms/step - loss: 0.5782 - mae: 0.5782\n",
            "Epoch 433/450\n",
            "1/1 [==============================] - 0s 11ms/step - loss: 0.5426 - mae: 0.5426\n",
            "Epoch 434/450\n",
            "1/1 [==============================] - 0s 49ms/step - loss: 0.4997 - mae: 0.4997\n",
            "Epoch 435/450\n",
            "1/1 [==============================] - 0s 16ms/step - loss: 0.4608 - mae: 0.4608\n",
            "Epoch 436/450\n",
            "1/1 [==============================] - 0s 16ms/step - loss: 0.4216 - mae: 0.4216\n",
            "Epoch 437/450\n",
            "1/1 [==============================] - 0s 38ms/step - loss: 0.3819 - mae: 0.3819\n",
            "Epoch 438/450\n",
            "1/1 [==============================] - 0s 27ms/step - loss: 0.3426 - mae: 0.3426\n",
            "Epoch 439/450\n",
            "1/1 [==============================] - 0s 25ms/step - loss: 0.3027 - mae: 0.3027\n",
            "Epoch 440/450\n",
            "1/1 [==============================] - 0s 20ms/step - loss: 0.2683 - mae: 0.2683\n",
            "Epoch 441/450\n",
            "1/1 [==============================] - 0s 21ms/step - loss: 0.2199 - mae: 0.2199\n",
            "Epoch 442/450\n",
            "1/1 [==============================] - 0s 21ms/step - loss: 0.1816 - mae: 0.1816\n",
            "Epoch 443/450\n",
            "1/1 [==============================] - 0s 20ms/step - loss: 0.1441 - mae: 0.1441\n",
            "Epoch 444/450\n",
            "1/1 [==============================] - 0s 22ms/step - loss: 0.1028 - mae: 0.1028\n",
            "Epoch 445/450\n",
            "1/1 [==============================] - 0s 19ms/step - loss: 0.0727 - mae: 0.0727\n",
            "Epoch 446/450\n",
            "1/1 [==============================] - 0s 37ms/step - loss: 0.0220 - mae: 0.0220\n",
            "Epoch 447/450\n",
            "1/1 [==============================] - 0s 38ms/step - loss: 0.0704 - mae: 0.0704\n",
            "Epoch 448/450\n",
            "1/1 [==============================] - 0s 23ms/step - loss: 0.0820 - mae: 0.0820\n",
            "Epoch 449/450\n",
            "1/1 [==============================] - 0s 17ms/step - loss: 0.1003 - mae: 0.1003\n",
            "Epoch 450/450\n",
            "1/1 [==============================] - 0s 14ms/step - loss: 0.1214 - mae: 0.1214\n"
          ]
        },
        {
          "output_type": "execute_result",
          "data": {
            "text/plain": [
              "<keras.src.callbacks.History at 0x7f7bef51d930>"
            ]
          },
          "metadata": {},
          "execution_count": 93
        }
      ]
    },
    {
      "cell_type": "code",
      "source": [
        "x,y"
      ],
      "metadata": {
        "colab": {
          "base_uri": "https://localhost:8080/"
        },
        "id": "UUWpGwzRMBT-",
        "outputId": "417da12d-32fc-4c8c-a44d-48b7c11a43fe"
      },
      "execution_count": 94,
      "outputs": [
        {
          "output_type": "execute_result",
          "data": {
            "text/plain": [
              "(<tf.Tensor: shape=(8,), dtype=float64, numpy=array([-7., -4., -1.,  2.,  5.,  8., 11., 14.])>,\n",
              " <tf.Tensor: shape=(8,), dtype=float64, numpy=array([ 3.,  6.,  9., 12., 15., 18., 21., 24.])>)"
            ]
          },
          "metadata": {},
          "execution_count": 94
        }
      ]
    },
    {
      "cell_type": "code",
      "source": [
        "y_pred=model.predict([17.0])\n",
        "y_pred\n"
      ],
      "metadata": {
        "colab": {
          "base_uri": "https://localhost:8080/"
        },
        "id": "gphYQvRhMDjY",
        "outputId": "89f6248c-e500-41c2-cae4-d02a87e76217"
      },
      "execution_count": 95,
      "outputs": [
        {
          "output_type": "stream",
          "name": "stdout",
          "text": [
            "1/1 [==============================] - 0s 72ms/step\n"
          ]
        },
        {
          "output_type": "execute_result",
          "data": {
            "text/plain": [
              "array([[26.996557]], dtype=float32)"
            ]
          },
          "metadata": {},
          "execution_count": 95
        }
      ]
    },
    {
      "cell_type": "code",
      "source": [
        "y_pred+11"
      ],
      "metadata": {
        "colab": {
          "base_uri": "https://localhost:8080/"
        },
        "id": "TjMb3uUMMojA",
        "outputId": "53626c38-3af3-4539-bd48-6e3173be6bfc"
      },
      "execution_count": 96,
      "outputs": [
        {
          "output_type": "execute_result",
          "data": {
            "text/plain": [
              "array([[37.99656]], dtype=float32)"
            ]
          },
          "metadata": {},
          "execution_count": 96
        }
      ]
    },
    {
      "cell_type": "code",
      "source": [
        "help(tf.random.set_seed)"
      ],
      "metadata": {
        "colab": {
          "base_uri": "https://localhost:8080/"
        },
        "id": "tPSi7BlP6J2t",
        "outputId": "6453a153-a7d4-497b-a4b4-dc8c4058ad03"
      },
      "execution_count": 97,
      "outputs": [
        {
          "output_type": "stream",
          "name": "stdout",
          "text": [
            "Help on function set_seed in module tensorflow.python.framework.random_seed:\n",
            "\n",
            "set_seed(seed)\n",
            "    Sets the global random seed.\n",
            "    \n",
            "    Operations that rely on a random seed actually derive it from two seeds:\n",
            "    the global and operation-level seeds. This sets the global seed.\n",
            "    \n",
            "    Its interactions with operation-level seeds is as follows:\n",
            "    \n",
            "      1. If neither the global seed nor the operation seed is set: A randomly\n",
            "        picked seed is used for this op.\n",
            "      2. If the global seed is set, but the operation seed is not:\n",
            "        The system deterministically picks an operation seed in conjunction with\n",
            "        the global seed so that it gets a unique random sequence. Within the\n",
            "        same version of tensorflow and user code, this sequence is deterministic.\n",
            "        However across different versions, this sequence might change. If the\n",
            "        code depends on particular seeds to work, specify both global\n",
            "        and operation-level seeds explicitly.\n",
            "      3. If the operation seed is set, but the global seed is not set:\n",
            "        A default global seed and the specified operation seed are used to\n",
            "        determine the random sequence.\n",
            "      4. If both the global and the operation seed are set:\n",
            "        Both seeds are used in conjunction to determine the random sequence.\n",
            "    \n",
            "    To illustrate the user-visible effects, consider these examples:\n",
            "    \n",
            "    If neither the global seed nor the operation seed is set, we get different\n",
            "    results for every call to the random op and every re-run of the program:\n",
            "    \n",
            "    ```python\n",
            "    print(tf.random.uniform([1]))  # generates 'A1'\n",
            "    print(tf.random.uniform([1]))  # generates 'A2'\n",
            "    ```\n",
            "    \n",
            "    (now close the program and run it again)\n",
            "    \n",
            "    ```python\n",
            "    print(tf.random.uniform([1]))  # generates 'A3'\n",
            "    print(tf.random.uniform([1]))  # generates 'A4'\n",
            "    ```\n",
            "    \n",
            "    If the global seed is set but the operation seed is not set, we get different\n",
            "    results for every call to the random op, but the same sequence for every\n",
            "    re-run of the program:\n",
            "    \n",
            "    ```python\n",
            "    tf.random.set_seed(1234)\n",
            "    print(tf.random.uniform([1]))  # generates 'A1'\n",
            "    print(tf.random.uniform([1]))  # generates 'A2'\n",
            "    ```\n",
            "    \n",
            "    (now close the program and run it again)\n",
            "    \n",
            "    ```python\n",
            "    tf.random.set_seed(1234)\n",
            "    print(tf.random.uniform([1]))  # generates 'A1'\n",
            "    print(tf.random.uniform([1]))  # generates 'A2'\n",
            "    ```\n",
            "    \n",
            "    The reason we get 'A2' instead 'A1' on the second call of `tf.random.uniform`\n",
            "    above is because the second call uses a different operation seed.\n",
            "    \n",
            "    Note that `tf.function` acts like a re-run of a program in this case. When\n",
            "    the global seed is set but operation seeds are not set, the sequence of random\n",
            "    numbers are the same for each `tf.function`. For example:\n",
            "    \n",
            "    ```python\n",
            "    tf.random.set_seed(1234)\n",
            "    \n",
            "    @tf.function\n",
            "    def f():\n",
            "      a = tf.random.uniform([1])\n",
            "      b = tf.random.uniform([1])\n",
            "      return a, b\n",
            "    \n",
            "    @tf.function\n",
            "    def g():\n",
            "      a = tf.random.uniform([1])\n",
            "      b = tf.random.uniform([1])\n",
            "      return a, b\n",
            "    \n",
            "    print(f())  # prints '(A1, A2)'\n",
            "    print(g())  # prints '(A1, A2)'\n",
            "    ```\n",
            "    \n",
            "    If the operation seed is set, we get different results for every call to the\n",
            "    random op, but the same sequence for every re-run of the program:\n",
            "    \n",
            "    ```python\n",
            "    print(tf.random.uniform([1], seed=1))  # generates 'A1'\n",
            "    print(tf.random.uniform([1], seed=1))  # generates 'A2'\n",
            "    ```\n",
            "    \n",
            "    (now close the program and run it again)\n",
            "    \n",
            "    ```python\n",
            "    print(tf.random.uniform([1], seed=1))  # generates 'A1'\n",
            "    print(tf.random.uniform([1], seed=1))  # generates 'A2'\n",
            "    ```\n",
            "    \n",
            "    The reason we get 'A2' instead 'A1' on the second call of `tf.random.uniform`\n",
            "    above is because the same `tf.random.uniform` kernel (i.e. internal\n",
            "    representation) is used by TensorFlow for all calls of it with the same\n",
            "    arguments, and the kernel maintains an internal counter which is incremented\n",
            "    every time it is executed, generating different results.\n",
            "    \n",
            "    Calling `tf.random.set_seed` will reset any such counters:\n",
            "    \n",
            "    ```python\n",
            "    tf.random.set_seed(1234)\n",
            "    print(tf.random.uniform([1], seed=1))  # generates 'A1'\n",
            "    print(tf.random.uniform([1], seed=1))  # generates 'A2'\n",
            "    tf.random.set_seed(1234)\n",
            "    print(tf.random.uniform([1], seed=1))  # generates 'A1'\n",
            "    print(tf.random.uniform([1], seed=1))  # generates 'A2'\n",
            "    ```\n",
            "    \n",
            "    When multiple identical random ops are wrapped in a `tf.function`, their\n",
            "    behaviors change because the ops no long share the same counter. For example:\n",
            "    \n",
            "    ```python\n",
            "    @tf.function\n",
            "    def foo():\n",
            "      a = tf.random.uniform([1], seed=1)\n",
            "      b = tf.random.uniform([1], seed=1)\n",
            "      return a, b\n",
            "    print(foo())  # prints '(A1, A1)'\n",
            "    print(foo())  # prints '(A2, A2)'\n",
            "    \n",
            "    @tf.function\n",
            "    def bar():\n",
            "      a = tf.random.uniform([1])\n",
            "      b = tf.random.uniform([1])\n",
            "      return a, b\n",
            "    print(bar())  # prints '(A1, A2)'\n",
            "    print(bar())  # prints '(A3, A4)'\n",
            "    ```\n",
            "    \n",
            "    The second call of `foo` returns '(A2, A2)' instead of '(A1, A1)' because\n",
            "    `tf.random.uniform` maintains an internal counter. If you want `foo` to return\n",
            "    '(A1, A1)' every time, use the stateless random ops such as\n",
            "    `tf.random.stateless_uniform`. Also see `tf.random.experimental.Generator` for\n",
            "    a new set of stateful random ops that use external variables to manage their\n",
            "    states.\n",
            "    \n",
            "    Args:\n",
            "      seed: integer.\n",
            "\n"
          ]
        }
      ]
    },
    {
      "cell_type": "code",
      "source": [
        "#create model using sequential API\n",
        "model=tf.keras.Sequential([\n",
        "    tf.keras.layers.Dense(100,activation='relu'),\n",
        "    tf.keras.layers.Dense(100,activation='relu'),\n",
        "    tf.keras.layers.Dense(100,activation='relu'),\n",
        "    tf.keras.layers.Dense(1)\n",
        "])\n",
        "\n",
        "#compile the model\n",
        "model.compile(loss=tf.keras.losses.mae,\n",
        "              optimizer=tf.keras.optimizers.SGD(),\n",
        "              metrics=[\"mae\"])\n",
        "\n",
        "#fit the model\n",
        "model.fit(tf.expand_dims(x, axis=-1), y, epochs=100)"
      ],
      "metadata": {
        "colab": {
          "base_uri": "https://localhost:8080/"
        },
        "id": "hqPzfnaV70X9",
        "outputId": "8e4b3fea-aa81-40c8-f8b1-95fbb09f9c50"
      },
      "execution_count": 98,
      "outputs": [
        {
          "output_type": "stream",
          "name": "stdout",
          "text": [
            "Epoch 1/100\n",
            "1/1 [==============================] - 1s 581ms/step - loss: 13.1007 - mae: 13.1007\n",
            "Epoch 2/100\n",
            "1/1 [==============================] - 0s 11ms/step - loss: 12.6771 - mae: 12.6771\n",
            "Epoch 3/100\n",
            "1/1 [==============================] - 0s 11ms/step - loss: 12.2621 - mae: 12.2621\n",
            "Epoch 4/100\n",
            "1/1 [==============================] - 0s 10ms/step - loss: 11.8159 - mae: 11.8159\n",
            "Epoch 5/100\n",
            "1/1 [==============================] - 0s 11ms/step - loss: 11.2981 - mae: 11.2981\n",
            "Epoch 6/100\n",
            "1/1 [==============================] - 0s 12ms/step - loss: 10.6919 - mae: 10.6919\n",
            "Epoch 7/100\n",
            "1/1 [==============================] - 0s 11ms/step - loss: 9.9620 - mae: 9.9620\n",
            "Epoch 8/100\n",
            "1/1 [==============================] - 0s 11ms/step - loss: 9.0279 - mae: 9.0279\n",
            "Epoch 9/100\n",
            "1/1 [==============================] - 0s 12ms/step - loss: 7.8346 - mae: 7.8346\n",
            "Epoch 10/100\n",
            "1/1 [==============================] - 0s 11ms/step - loss: 6.3643 - mae: 6.3643\n",
            "Epoch 11/100\n",
            "1/1 [==============================] - 0s 11ms/step - loss: 4.4744 - mae: 4.4744\n",
            "Epoch 12/100\n",
            "1/1 [==============================] - 0s 10ms/step - loss: 4.2515 - mae: 4.2515\n",
            "Epoch 13/100\n",
            "1/1 [==============================] - 0s 14ms/step - loss: 4.0236 - mae: 4.0236\n",
            "Epoch 14/100\n",
            "1/1 [==============================] - 0s 10ms/step - loss: 3.9378 - mae: 3.9378\n",
            "Epoch 15/100\n",
            "1/1 [==============================] - 0s 12ms/step - loss: 4.0350 - mae: 4.0350\n",
            "Epoch 16/100\n",
            "1/1 [==============================] - 0s 10ms/step - loss: 3.8869 - mae: 3.8869\n",
            "Epoch 17/100\n",
            "1/1 [==============================] - 0s 10ms/step - loss: 4.0477 - mae: 4.0477\n",
            "Epoch 18/100\n",
            "1/1 [==============================] - 0s 14ms/step - loss: 3.8416 - mae: 3.8416\n",
            "Epoch 19/100\n",
            "1/1 [==============================] - 0s 11ms/step - loss: 4.0415 - mae: 4.0415\n",
            "Epoch 20/100\n",
            "1/1 [==============================] - 0s 11ms/step - loss: 3.8537 - mae: 3.8537\n",
            "Epoch 21/100\n",
            "1/1 [==============================] - 0s 11ms/step - loss: 3.9906 - mae: 3.9906\n",
            "Epoch 22/100\n",
            "1/1 [==============================] - 0s 11ms/step - loss: 3.8674 - mae: 3.8674\n",
            "Epoch 23/100\n",
            "1/1 [==============================] - 0s 10ms/step - loss: 3.9379 - mae: 3.9379\n",
            "Epoch 24/100\n",
            "1/1 [==============================] - 0s 10ms/step - loss: 3.8823 - mae: 3.8823\n",
            "Epoch 25/100\n",
            "1/1 [==============================] - 0s 10ms/step - loss: 3.8834 - mae: 3.8834\n",
            "Epoch 26/100\n",
            "1/1 [==============================] - 0s 12ms/step - loss: 3.8985 - mae: 3.8985\n",
            "Epoch 27/100\n",
            "1/1 [==============================] - 0s 10ms/step - loss: 3.8292 - mae: 3.8292\n",
            "Epoch 28/100\n",
            "1/1 [==============================] - 0s 10ms/step - loss: 3.9148 - mae: 3.9148\n",
            "Epoch 29/100\n",
            "1/1 [==============================] - 0s 11ms/step - loss: 3.7705 - mae: 3.7705\n",
            "Epoch 30/100\n",
            "1/1 [==============================] - 0s 14ms/step - loss: 3.9331 - mae: 3.9331\n",
            "Epoch 31/100\n",
            "1/1 [==============================] - 0s 11ms/step - loss: 3.7321 - mae: 3.7321\n",
            "Epoch 32/100\n",
            "1/1 [==============================] - 0s 11ms/step - loss: 3.9399 - mae: 3.9399\n",
            "Epoch 33/100\n",
            "1/1 [==============================] - 0s 11ms/step - loss: 3.7863 - mae: 3.7863\n",
            "Epoch 34/100\n",
            "1/1 [==============================] - 0s 14ms/step - loss: 3.8386 - mae: 3.8386\n",
            "Epoch 35/100\n",
            "1/1 [==============================] - 0s 14ms/step - loss: 3.8050 - mae: 3.8050\n",
            "Epoch 36/100\n",
            "1/1 [==============================] - 0s 12ms/step - loss: 3.7767 - mae: 3.7767\n",
            "Epoch 37/100\n",
            "1/1 [==============================] - 0s 11ms/step - loss: 3.8254 - mae: 3.8254\n",
            "Epoch 38/100\n",
            "1/1 [==============================] - 0s 13ms/step - loss: 3.7135 - mae: 3.7135\n",
            "Epoch 39/100\n",
            "1/1 [==============================] - 0s 11ms/step - loss: 3.8472 - mae: 3.8472\n",
            "Epoch 40/100\n",
            "1/1 [==============================] - 0s 12ms/step - loss: 3.6516 - mae: 3.6516\n",
            "Epoch 41/100\n",
            "1/1 [==============================] - 0s 10ms/step - loss: 3.8673 - mae: 3.8673\n",
            "Epoch 42/100\n",
            "1/1 [==============================] - 0s 11ms/step - loss: 3.7082 - mae: 3.7082\n",
            "Epoch 43/100\n",
            "1/1 [==============================] - 0s 14ms/step - loss: 3.7692 - mae: 3.7692\n",
            "Epoch 44/100\n",
            "1/1 [==============================] - 0s 11ms/step - loss: 3.7300 - mae: 3.7300\n",
            "Epoch 45/100\n",
            "1/1 [==============================] - 0s 11ms/step - loss: 3.7019 - mae: 3.7019\n",
            "Epoch 46/100\n",
            "1/1 [==============================] - 0s 10ms/step - loss: 3.7532 - mae: 3.7532\n",
            "Epoch 47/100\n",
            "1/1 [==============================] - 0s 11ms/step - loss: 3.6326 - mae: 3.6326\n",
            "Epoch 48/100\n",
            "1/1 [==============================] - 0s 13ms/step - loss: 3.7789 - mae: 3.7789\n",
            "Epoch 49/100\n",
            "1/1 [==============================] - 0s 15ms/step - loss: 3.5873 - mae: 3.5873\n",
            "Epoch 50/100\n",
            "1/1 [==============================] - 0s 17ms/step - loss: 3.7678 - mae: 3.7678\n",
            "Epoch 51/100\n",
            "1/1 [==============================] - 0s 15ms/step - loss: 3.6129 - mae: 3.6129\n",
            "Epoch 52/100\n",
            "1/1 [==============================] - 0s 9ms/step - loss: 3.7027 - mae: 3.7027\n",
            "Epoch 53/100\n",
            "1/1 [==============================] - 0s 13ms/step - loss: 3.6701 - mae: 3.6701\n",
            "Epoch 54/100\n",
            "1/1 [==============================] - 0s 12ms/step - loss: 3.6026 - mae: 3.6026\n",
            "Epoch 55/100\n",
            "1/1 [==============================] - 0s 12ms/step - loss: 3.6972 - mae: 3.6972\n",
            "Epoch 56/100\n",
            "1/1 [==============================] - 0s 11ms/step - loss: 3.5258 - mae: 3.5258\n",
            "Epoch 57/100\n",
            "1/1 [==============================] - 0s 11ms/step - loss: 3.7257 - mae: 3.7257\n",
            "Epoch 58/100\n",
            "1/1 [==============================] - 0s 10ms/step - loss: 3.5364 - mae: 3.5364\n",
            "Epoch 59/100\n",
            "1/1 [==============================] - 0s 11ms/step - loss: 3.6537 - mae: 3.6537\n",
            "Epoch 60/100\n",
            "1/1 [==============================] - 0s 10ms/step - loss: 3.5641 - mae: 3.5641\n",
            "Epoch 61/100\n",
            "1/1 [==============================] - 0s 12ms/step - loss: 3.5745 - mae: 3.5745\n",
            "Epoch 62/100\n",
            "1/1 [==============================] - 0s 10ms/step - loss: 3.5940 - mae: 3.5940\n",
            "Epoch 63/100\n",
            "1/1 [==============================] - 0s 12ms/step - loss: 3.4930 - mae: 3.4930\n",
            "Epoch 64/100\n",
            "1/1 [==============================] - 0s 13ms/step - loss: 3.6261 - mae: 3.6261\n",
            "Epoch 65/100\n",
            "1/1 [==============================] - 0s 11ms/step - loss: 3.4440 - mae: 3.4440\n",
            "Epoch 66/100\n",
            "1/1 [==============================] - 0s 11ms/step - loss: 3.6297 - mae: 3.6297\n",
            "Epoch 67/100\n",
            "1/1 [==============================] - 0s 10ms/step - loss: 3.5100 - mae: 3.5100\n",
            "Epoch 68/100\n",
            "1/1 [==============================] - 0s 10ms/step - loss: 3.5127 - mae: 3.5127\n",
            "Epoch 69/100\n",
            "1/1 [==============================] - 0s 10ms/step - loss: 3.5404 - mae: 3.5404\n",
            "Epoch 70/100\n",
            "1/1 [==============================] - 0s 10ms/step - loss: 3.4276 - mae: 3.4276\n",
            "Epoch 71/100\n",
            "1/1 [==============================] - 0s 10ms/step - loss: 3.5721 - mae: 3.5721\n",
            "Epoch 72/100\n",
            "1/1 [==============================] - 0s 10ms/step - loss: 3.3921 - mae: 3.3921\n",
            "Epoch 73/100\n",
            "1/1 [==============================] - 0s 10ms/step - loss: 3.5404 - mae: 3.5404\n",
            "Epoch 74/100\n",
            "1/1 [==============================] - 0s 10ms/step - loss: 3.4241 - mae: 3.4241\n",
            "Epoch 75/100\n",
            "1/1 [==============================] - 0s 10ms/step - loss: 3.4525 - mae: 3.4525\n",
            "Epoch 76/100\n",
            "1/1 [==============================] - 0s 10ms/step - loss: 3.4573 - mae: 3.4573\n",
            "Epoch 77/100\n",
            "1/1 [==============================] - 0s 12ms/step - loss: 3.3620 - mae: 3.3620\n",
            "Epoch 78/100\n",
            "1/1 [==============================] - 0s 10ms/step - loss: 3.4930 - mae: 3.4930\n",
            "Epoch 79/100\n",
            "1/1 [==============================] - 0s 10ms/step - loss: 3.3250 - mae: 3.3250\n",
            "Epoch 80/100\n",
            "1/1 [==============================] - 0s 11ms/step - loss: 3.4498 - mae: 3.4498\n",
            "Epoch 81/100\n",
            "1/1 [==============================] - 0s 12ms/step - loss: 3.3836 - mae: 3.3836\n",
            "Epoch 82/100\n",
            "1/1 [==============================] - 0s 11ms/step - loss: 3.3554 - mae: 3.3554\n",
            "Epoch 83/100\n",
            "1/1 [==============================] - 0s 11ms/step - loss: 3.4171 - mae: 3.4171\n",
            "Epoch 84/100\n",
            "1/1 [==============================] - 0s 10ms/step - loss: 3.2585 - mae: 3.2585\n",
            "Epoch 85/100\n",
            "1/1 [==============================] - 0s 10ms/step - loss: 3.4531 - mae: 3.4531\n",
            "Epoch 86/100\n",
            "1/1 [==============================] - 0s 10ms/step - loss: 3.2760 - mae: 3.2760\n",
            "Epoch 87/100\n",
            "1/1 [==============================] - 0s 10ms/step - loss: 3.3566 - mae: 3.3566\n",
            "Epoch 88/100\n",
            "1/1 [==============================] - 0s 10ms/step - loss: 3.3131 - mae: 3.3131\n",
            "Epoch 89/100\n",
            "1/1 [==============================] - 0s 10ms/step - loss: 3.2535 - mae: 3.2535\n",
            "Epoch 90/100\n",
            "1/1 [==============================] - 0s 10ms/step - loss: 3.3534 - mae: 3.3534\n",
            "Epoch 91/100\n",
            "1/1 [==============================] - 0s 10ms/step - loss: 3.1847 - mae: 3.1847\n",
            "Epoch 92/100\n",
            "1/1 [==============================] - 0s 10ms/step - loss: 3.3358 - mae: 3.3358\n",
            "Epoch 93/100\n",
            "1/1 [==============================] - 0s 11ms/step - loss: 3.2519 - mae: 3.2519\n",
            "Epoch 94/100\n",
            "1/1 [==============================] - 0s 10ms/step - loss: 3.2210 - mae: 3.2210\n",
            "Epoch 95/100\n",
            "1/1 [==============================] - 0s 12ms/step - loss: 3.2916 - mae: 3.2916\n",
            "Epoch 96/100\n",
            "1/1 [==============================] - 0s 10ms/step - loss: 3.1218 - mae: 3.1218\n",
            "Epoch 97/100\n",
            "1/1 [==============================] - 0s 10ms/step - loss: 3.3087 - mae: 3.3087\n",
            "Epoch 98/100\n",
            "1/1 [==============================] - 0s 10ms/step - loss: 3.1603 - mae: 3.1603\n",
            "Epoch 99/100\n",
            "1/1 [==============================] - 0s 10ms/step - loss: 3.1995 - mae: 3.1995\n",
            "Epoch 100/100\n",
            "1/1 [==============================] - 0s 10ms/step - loss: 3.2007 - mae: 3.2007\n"
          ]
        },
        {
          "output_type": "execute_result",
          "data": {
            "text/plain": [
              "<keras.src.callbacks.History at 0x7f7bef454a30>"
            ]
          },
          "metadata": {},
          "execution_count": 98
        }
      ]
    },
    {
      "cell_type": "code",
      "source": [
        "x,y"
      ],
      "metadata": {
        "colab": {
          "base_uri": "https://localhost:8080/"
        },
        "id": "koOMFvIYPHBh",
        "outputId": "a2df704d-c50d-4ac9-be00-fa8fae03242d"
      },
      "execution_count": 99,
      "outputs": [
        {
          "output_type": "execute_result",
          "data": {
            "text/plain": [
              "(<tf.Tensor: shape=(8,), dtype=float64, numpy=array([-7., -4., -1.,  2.,  5.,  8., 11., 14.])>,\n",
              " <tf.Tensor: shape=(8,), dtype=float64, numpy=array([ 3.,  6.,  9., 12., 15., 18., 21., 24.])>)"
            ]
          },
          "metadata": {},
          "execution_count": 99
        }
      ]
    },
    {
      "cell_type": "code",
      "source": [
        "model.predict([17])"
      ],
      "metadata": {
        "colab": {
          "base_uri": "https://localhost:8080/"
        },
        "id": "QCQPRwJyPfTG",
        "outputId": "3b335dd0-8610-4cd7-bbca-05c1da92cb83"
      },
      "execution_count": 100,
      "outputs": [
        {
          "output_type": "stream",
          "name": "stdout",
          "text": [
            "1/1 [==============================] - 0s 129ms/step\n"
          ]
        },
        {
          "output_type": "execute_result",
          "data": {
            "text/plain": [
              "array([[30.789717]], dtype=float32)"
            ]
          },
          "metadata": {},
          "execution_count": 100
        }
      ]
    },
    {
      "cell_type": "markdown",
      "source": [
        "### Evaluating a Tensorflow model"
      ],
      "metadata": {
        "id": "WTK_IkYPj5fF"
      }
    },
    {
      "cell_type": "code",
      "source": [
        "X=tf.range(-100,100,4)\n",
        "X"
      ],
      "metadata": {
        "colab": {
          "base_uri": "https://localhost:8080/"
        },
        "id": "A-IH_UHmj2JV",
        "outputId": "b3ca98cb-d487-4346-8ef4-3a0324436837"
      },
      "execution_count": 101,
      "outputs": [
        {
          "output_type": "execute_result",
          "data": {
            "text/plain": [
              "<tf.Tensor: shape=(50,), dtype=int32, numpy=\n",
              "array([-100,  -96,  -92,  -88,  -84,  -80,  -76,  -72,  -68,  -64,  -60,\n",
              "        -56,  -52,  -48,  -44,  -40,  -36,  -32,  -28,  -24,  -20,  -16,\n",
              "        -12,   -8,   -4,    0,    4,    8,   12,   16,   20,   24,   28,\n",
              "         32,   36,   40,   44,   48,   52,   56,   60,   64,   68,   72,\n",
              "         76,   80,   84,   88,   92,   96], dtype=int32)>"
            ]
          },
          "metadata": {},
          "execution_count": 101
        }
      ]
    },
    {
      "cell_type": "code",
      "source": [
        "y=X+10\n",
        "y"
      ],
      "metadata": {
        "colab": {
          "base_uri": "https://localhost:8080/"
        },
        "id": "B0eONokTkCBj",
        "outputId": "79b43253-ee13-427a-9221-95a56b1e98af"
      },
      "execution_count": 102,
      "outputs": [
        {
          "output_type": "execute_result",
          "data": {
            "text/plain": [
              "<tf.Tensor: shape=(50,), dtype=int32, numpy=\n",
              "array([-90, -86, -82, -78, -74, -70, -66, -62, -58, -54, -50, -46, -42,\n",
              "       -38, -34, -30, -26, -22, -18, -14, -10,  -6,  -2,   2,   6,  10,\n",
              "        14,  18,  22,  26,  30,  34,  38,  42,  46,  50,  54,  58,  62,\n",
              "        66,  70,  74,  78,  82,  86,  90,  94,  98, 102, 106], dtype=int32)>"
            ]
          },
          "metadata": {},
          "execution_count": 102
        }
      ]
    },
    {
      "cell_type": "code",
      "source": [
        "X_train=X[:40]\n",
        "y_train=y[:40]\n",
        "\n",
        "X_test=X[40:]\n",
        "y_test=y[40:]\n",
        "\n",
        "len(X_train),len(y_train),len(X_test),len(y_test)"
      ],
      "metadata": {
        "colab": {
          "base_uri": "https://localhost:8080/"
        },
        "id": "VJEp9KazkJJ7",
        "outputId": "a6547c0d-0780-4ff9-a546-4b614afbe2f2"
      },
      "execution_count": 103,
      "outputs": [
        {
          "output_type": "execute_result",
          "data": {
            "text/plain": [
              "(40, 40, 10, 10)"
            ]
          },
          "metadata": {},
          "execution_count": 103
        }
      ]
    },
    {
      "cell_type": "code",
      "source": [
        "plt.figure(figsize=(10,7))\n",
        "plt.scatter(X_train,y_train,c='b',label=\"Training label\")\n",
        "plt.scatter(X_test,y_test,c='r',label=\"Test label\")\n",
        "plt.legend();"
      ],
      "metadata": {
        "colab": {
          "base_uri": "https://localhost:8080/",
          "height": 599
        },
        "id": "ZCx_nIoZlMii",
        "outputId": "513af399-ec4f-4e3a-b80b-9adf8dc41de6"
      },
      "execution_count": 104,
      "outputs": [
        {
          "output_type": "display_data",
          "data": {
            "text/plain": [
              "<Figure size 1000x700 with 1 Axes>"
            ],
            "image/png": "[encoded data removed]"
          },
          "metadata": {}
        }
      ]
    },
    {
      "cell_type": "code",
      "source": [
        "tf.random.set_seed(42)\n",
        "#create a model\n",
        "model=tf.keras.Sequential([\n",
        "    tf.keras.layers.Dense(10,input_shape=[1],name=\"input_layers\"),\n",
        "    tf.keras.layers.Dense(1,name=\"output_layers\",)\n",
        "],name='model')\n",
        "\n",
        "#compile the model\n",
        "model.compile(loss=tf.keras.losses.mae,\n",
        "              optimizer=tf.keras.optimizers.legacy.Adam(lr=0.01),\n",
        "              metrics=\"mae\")\n",
        "#train the model\n",
        "model.fit(tf.expand_dims(X_train, axis=-1), y_train, epochs=650, verbose=0)"
      ],
      "metadata": {
        "colab": {
          "base_uri": "https://localhost:8080/"
        },
        "id": "mXI_GYfdagip",
        "outputId": "fae2f6a3-8ecc-4d53-9d4c-44106d030a3d"
      },
      "execution_count": 105,
      "outputs": [
        {
          "output_type": "execute_result",
          "data": {
            "text/plain": [
              "<keras.src.callbacks.History at 0x7f7bef20ee00>"
            ]
          },
          "metadata": {},
          "execution_count": 105
        }
      ]
    },
    {
      "cell_type": "code",
      "source": [
        "model.summary()"
      ],
      "metadata": {
        "colab": {
          "base_uri": "https://localhost:8080/"
        },
        "id": "u_ZSnOHtc2Pm",
        "outputId": "6aeed55a-f103-496e-bc05-2fb76232b0b1"
      },
      "execution_count": 106,
      "outputs": [
        {
          "output_type": "stream",
          "name": "stdout",
          "text": [
            "Model: \"model\"\n",
            "_________________________________________________________________\n",
            " Layer (type)                Output Shape              Param #   \n",
            "=================================================================\n",
            " input_layers (Dense)        (None, 10)                20        \n",
            "                                                                 \n",
            " output_layers (Dense)       (None, 1)                 11        \n",
            "                                                                 \n",
            "=================================================================\n",
            "Total params: 31 (124.00 Byte)\n",
            "Trainable params: 31 (124.00 Byte)\n",
            "Non-trainable params: 0 (0.00 Byte)\n",
            "_________________________________________________________________\n"
          ]
        }
      ]
    },
    {
      "cell_type": "code",
      "source": [
        "y_pred=model.predict(X_test)\n",
        "tf.constant(y_pred)\n"
      ],
      "metadata": {
        "colab": {
          "base_uri": "https://localhost:8080/"
        },
        "id": "RGq45NihotN_",
        "outputId": "b9e71435-b952-4105-89b0-f2c0429346d5"
      },
      "execution_count": 107,
      "outputs": [
        {
          "output_type": "stream",
          "name": "stdout",
          "text": [
            "1/1 [==============================] - 0s 84ms/step\n"
          ]
        },
        {
          "output_type": "execute_result",
          "data": {
            "text/plain": [
              "<tf.Tensor: shape=(10, 1), dtype=float32, numpy=\n",
              "array([[ 69.23981],\n",
              "       [ 73.19474],\n",
              "       [ 77.14969],\n",
              "       [ 81.10463],\n",
              "       [ 85.05958],\n",
              "       [ 89.01451],\n",
              "       [ 92.96946],\n",
              "       [ 96.9244 ],\n",
              "       [100.87933],\n",
              "       [104.83428]], dtype=float32)>"
            ]
          },
          "metadata": {},
          "execution_count": 107
        }
      ]
    },
    {
      "cell_type": "code",
      "source": [
        "y_test"
      ],
      "metadata": {
        "colab": {
          "base_uri": "https://localhost:8080/"
        },
        "id": "GassudxIYvSL",
        "outputId": "ed35649a-f386-4b97-8453-21f24281278f"
      },
      "execution_count": 108,
      "outputs": [
        {
          "output_type": "execute_result",
          "data": {
            "text/plain": [
              "<tf.Tensor: shape=(10,), dtype=int32, numpy=array([ 70,  74,  78,  82,  86,  90,  94,  98, 102, 106], dtype=int32)>"
            ]
          },
          "metadata": {},
          "execution_count": 108
        }
      ]
    },
    {
      "cell_type": "code",
      "source": [
        "from tensorflow.keras.utils import plot_model\n",
        "plot_model(model=model,show_shapes=True)"
      ],
      "metadata": {
        "colab": {
          "base_uri": "https://localhost:8080/",
          "height": 312
        },
        "id": "5CgRz5PeZv5C",
        "outputId": "ed67a508-acd6-48ee-b9e0-ef61f0292715"
      },
      "execution_count": 109,
      "outputs": [
        {
          "output_type": "execute_result",
          "data": {
            "image/png": "[encoded data removed]",
            "text/plain": [
              "<IPython.core.display.Image object>"
            ]
          },
          "metadata": {},
          "execution_count": 109
        }
      ]
    },
    {
      "cell_type": "code",
      "source": [
        "def plot_predictions(train_data=X_train,\n",
        "                     train_labels=y_train,\n",
        "                     test_data=X_test,\n",
        "                     test_labels=y_test,\n",
        "                     predictions=y_pred):\n",
        "  plt.figure(figsize=(10,7))\n",
        "\n",
        "  plt.scatter(train_data,train_labels,c='b',label=\"Training data\")\n",
        "  plt.scatter(test_data,test_labels,c='r',label=\"Test data\")\n",
        "  plt.scatter(test_data,predictions,c='g',label=\"Predictions\")\n",
        "  plt.legend();"
      ],
      "metadata": {
        "id": "9On7G2ZdoRsZ"
      },
      "execution_count": 110,
      "outputs": []
    },
    {
      "cell_type": "code",
      "source": [
        "plot_predictions()"
      ],
      "metadata": {
        "colab": {
          "base_uri": "https://localhost:8080/",
          "height": 599
        },
        "id": "3zNeKLavzQcA",
        "outputId": "d84d6cc4-c22d-4af1-9a3c-685529079299"
      },
      "execution_count": 111,
      "outputs": [
        {
          "output_type": "display_data",
          "data": {
            "text/plain": [
              "<Figure size 1000x700 with 1 Axes>"
            ],
            "image/png": "[encoded data removed]"
          },
          "metadata": {}
        }
      ]
    },
    {
      "cell_type": "code",
      "source": [
        "model.evaluate(X_test,y_test)"
      ],
      "metadata": {
        "colab": {
          "base_uri": "https://localhost:8080/"
        },
        "id": "PlT3cyAHzgAq",
        "outputId": "d30b3456-8dd7-4e59-f5b9-067de7c52c3a"
      },
      "execution_count": 112,
      "outputs": [
        {
          "output_type": "stream",
          "name": "stderr",
          "text": [
            "WARNING:tensorflow:5 out of the last 5 calls to <function Model.make_test_function.<locals>.test_function at 0x7f7bef286710> triggered tf.function retracing. Tracing is expensive and the excessive number of tracings could be due to (1) creating @tf.function repeatedly in a loop, (2) passing tensors with different shapes, (3) passing Python objects instead of tensors. For (1), please define your @tf.function outside of the loop. For (2), @tf.function has reduce_retracing=True option that can avoid unnecessary retracing. For (3), please refer to https://www.tensorflow.org/guide/function#controlling_retracing and https://www.tensorflow.org/api_docs/python/tf/function for  more details.\n"
          ]
        },
        {
          "output_type": "stream",
          "name": "stdout",
          "text": [
            "1/1 [==============================] - 0s 184ms/step - loss: 0.9630 - mae: 0.9630\n"
          ]
        },
        {
          "output_type": "execute_result",
          "data": {
            "text/plain": [
              "[0.9629577398300171, 0.9629577398300171]"
            ]
          },
          "metadata": {},
          "execution_count": 112
        }
      ]
    },
    {
      "cell_type": "code",
      "source": [
        "mae=tf.metrics.mean_absolute_error(y_test,y_pred)\n",
        "mae"
      ],
      "metadata": {
        "colab": {
          "base_uri": "https://localhost:8080/"
        },
        "id": "HbRbthix2bck",
        "outputId": "4737e951-4735-4d3a-d686-157e07cb7dac"
      },
      "execution_count": 113,
      "outputs": [
        {
          "output_type": "execute_result",
          "data": {
            "text/plain": [
              "<tf.Tensor: shape=(10,), dtype=float32, numpy=\n",
              "array([18.760193, 15.444208, 12.910187, 11.158148, 10.188085, 10.      ,\n",
              "       10.593892, 11.96976 , 14.1276  , 17.067425], dtype=float32)>"
            ]
          },
          "metadata": {},
          "execution_count": 113
        }
      ]
    },
    {
      "cell_type": "code",
      "source": [
        "y_pred.squeeze()"
      ],
      "metadata": {
        "colab": {
          "base_uri": "https://localhost:8080/"
        },
        "id": "N6m6no4q3bNY",
        "outputId": "0fb54d4e-6046-4b37-b7d3-0548460088b9"
      },
      "execution_count": 114,
      "outputs": [
        {
          "output_type": "execute_result",
          "data": {
            "text/plain": [
              "array([ 69.23981,  73.19474,  77.14969,  81.10463,  85.05958,  89.01451,\n",
              "        92.96946,  96.9244 , 100.87933, 104.83428], dtype=float32)"
            ]
          },
          "metadata": {},
          "execution_count": 114
        }
      ]
    },
    {
      "cell_type": "code",
      "source": [
        "mae=tf.metrics.mean_absolute_error(y_true=y_test,y_pred=y_pred.squeeze())\n",
        "mae"
      ],
      "metadata": {
        "colab": {
          "base_uri": "https://localhost:8080/"
        },
        "id": "-cNQja586sdW",
        "outputId": "04d57c75-3fca-4045-fa1f-5b0acc8cf2b0"
      },
      "execution_count": 115,
      "outputs": [
        {
          "output_type": "execute_result",
          "data": {
            "text/plain": [
              "<tf.Tensor: shape=(), dtype=float32, numpy=0.962957>"
            ]
          },
          "metadata": {},
          "execution_count": 115
        }
      ]
    },
    {
      "cell_type": "code",
      "source": [
        "tf.random.set_seed(42)\n",
        "#create a model\n",
        "model=tf.keras.Sequential([\n",
        "    tf.keras.layers.Dense(10,input_shape=[1],name=\"input_layers\"),\n",
        "    tf.keras.layers.Dense(1,name=\"output_layers\",)\n",
        "],name='model')\n",
        "\n",
        "#compile the model\n",
        "model.compile(loss=tf.keras.losses.mae,\n",
        "              optimizer=tf.keras.optimizers.legacy.SGD(),\n",
        "              metrics=\"mse\")\n",
        "#train the model\n",
        "model.fit(tf.expand_dims(X_train, axis=-1), y_train, epochs=100, verbose=1)"
      ],
      "metadata": {
        "colab": {
          "base_uri": "https://localhost:8080/"
        },
        "id": "WqcXImiK7b7K",
        "outputId": "a823b0a2-4fff-47b2-8f70-1e69bff7c49e"
      },
      "execution_count": 139,
      "outputs": [
        {
          "output_type": "stream",
          "name": "stdout",
          "text": [
            "Epoch 1/100\n",
            "2/2 [==============================] - 2s 11ms/step - loss: 57.6391 - mse: 5170.7280\n",
            "Epoch 2/100\n",
            "2/2 [==============================] - 0s 7ms/step - loss: 30.4953 - mse: 1209.4290\n",
            "Epoch 3/100\n",
            "2/2 [==============================] - 0s 7ms/step - loss: 34.4103 - mse: 1823.2737\n",
            "Epoch 4/100\n",
            "2/2 [==============================] - 0s 7ms/step - loss: 22.5974 - mse: 731.7283\n",
            "Epoch 5/100\n",
            "2/2 [==============================] - 0s 7ms/step - loss: 13.5965 - mse: 229.2988\n",
            "Epoch 6/100\n",
            "2/2 [==============================] - 0s 7ms/step - loss: 10.9983 - mse: 133.9449\n",
            "Epoch 7/100\n",
            "2/2 [==============================] - 0s 7ms/step - loss: 12.0338 - mse: 182.4273\n",
            "Epoch 8/100\n",
            "2/2 [==============================] - 0s 8ms/step - loss: 10.9153 - mse: 133.5474\n",
            "Epoch 9/100\n",
            "2/2 [==============================] - 0s 7ms/step - loss: 37.9324 - mse: 2218.8340\n",
            "Epoch 10/100\n",
            "2/2 [==============================] - 0s 8ms/step - loss: 25.5326 - mse: 915.2028\n",
            "Epoch 11/100\n",
            "2/2 [==============================] - 0s 7ms/step - loss: 10.2489 - mse: 147.9333\n",
            "Epoch 12/100\n",
            "2/2 [==============================] - 0s 7ms/step - loss: 25.3540 - mse: 895.8752\n",
            "Epoch 13/100\n",
            "2/2 [==============================] - 0s 7ms/step - loss: 17.0041 - mse: 400.8829\n",
            "Epoch 14/100\n",
            "2/2 [==============================] - 0s 7ms/step - loss: 25.9585 - mse: 1052.8658\n",
            "Epoch 15/100\n",
            "2/2 [==============================] - 0s 7ms/step - loss: 18.0227 - mse: 451.6792\n",
            "Epoch 16/100\n",
            "2/2 [==============================] - 0s 6ms/step - loss: 7.3449 - mse: 80.2855\n",
            "Epoch 17/100\n",
            "2/2 [==============================] - 0s 9ms/step - loss: 10.8536 - mse: 174.5961\n",
            "Epoch 18/100\n",
            "2/2 [==============================] - 0s 7ms/step - loss: 19.5136 - mse: 564.8474\n",
            "Epoch 19/100\n",
            "2/2 [==============================] - 0s 7ms/step - loss: 10.3340 - mse: 167.7757\n",
            "Epoch 20/100\n",
            "2/2 [==============================] - 0s 9ms/step - loss: 17.6829 - mse: 454.6768\n",
            "Epoch 21/100\n",
            "2/2 [==============================] - 0s 7ms/step - loss: 15.8800 - mse: 346.3514\n",
            "Epoch 22/100\n",
            "2/2 [==============================] - 0s 8ms/step - loss: 14.1739 - mse: 284.3510\n",
            "Epoch 23/100\n",
            "2/2 [==============================] - 0s 8ms/step - loss: 8.7777 - mse: 91.4953\n",
            "Epoch 24/100\n",
            "2/2 [==============================] - 0s 7ms/step - loss: 11.0641 - mse: 153.5464\n",
            "Epoch 25/100\n",
            "2/2 [==============================] - 0s 7ms/step - loss: 12.7003 - mse: 234.6340\n",
            "Epoch 26/100\n",
            "2/2 [==============================] - 0s 7ms/step - loss: 26.2540 - mse: 1030.4431\n",
            "Epoch 27/100\n",
            "2/2 [==============================] - 0s 7ms/step - loss: 11.7504 - mse: 196.0780\n",
            "Epoch 28/100\n",
            "2/2 [==============================] - 0s 8ms/step - loss: 22.9447 - mse: 840.9383\n",
            "Epoch 29/100\n",
            "2/2 [==============================] - 0s 8ms/step - loss: 9.2388 - mse: 96.3178\n",
            "Epoch 30/100\n",
            "2/2 [==============================] - 0s 8ms/step - loss: 29.3329 - mse: 1544.1252\n",
            "Epoch 31/100\n",
            "2/2 [==============================] - 0s 7ms/step - loss: 53.1534 - mse: 5056.2695\n",
            "Epoch 32/100\n",
            "2/2 [==============================] - 0s 7ms/step - loss: 12.3760 - mse: 223.9759\n",
            "Epoch 33/100\n",
            "2/2 [==============================] - 0s 7ms/step - loss: 12.1839 - mse: 182.4654\n",
            "Epoch 34/100\n",
            "2/2 [==============================] - 0s 8ms/step - loss: 23.9773 - mse: 871.3705\n",
            "Epoch 35/100\n",
            "2/2 [==============================] - 0s 15ms/step - loss: 12.6137 - mse: 243.2284\n",
            "Epoch 36/100\n",
            "2/2 [==============================] - 0s 8ms/step - loss: 21.5109 - mse: 659.9889\n",
            "Epoch 37/100\n",
            "2/2 [==============================] - 0s 8ms/step - loss: 11.3967 - mse: 150.4970\n",
            "Epoch 38/100\n",
            "2/2 [==============================] - 0s 7ms/step - loss: 13.4899 - mse: 270.4601\n",
            "Epoch 39/100\n",
            "2/2 [==============================] - 0s 8ms/step - loss: 10.8039 - mse: 139.8656\n",
            "Epoch 40/100\n",
            "2/2 [==============================] - 0s 8ms/step - loss: 16.6324 - mse: 401.2931\n",
            "Epoch 41/100\n",
            "2/2 [==============================] - 0s 8ms/step - loss: 10.9909 - mse: 179.9112\n",
            "Epoch 42/100\n",
            "2/2 [==============================] - 0s 8ms/step - loss: 9.3134 - mse: 115.0167\n",
            "Epoch 43/100\n",
            "2/2 [==============================] - 0s 9ms/step - loss: 9.5980 - mse: 110.8259\n",
            "Epoch 44/100\n",
            "2/2 [==============================] - 0s 8ms/step - loss: 28.0374 - mse: 1261.0631\n",
            "Epoch 45/100\n",
            "2/2 [==============================] - 0s 8ms/step - loss: 11.2981 - mse: 147.3705\n",
            "Epoch 46/100\n",
            "2/2 [==============================] - 0s 10ms/step - loss: 14.0966 - mse: 290.1823\n",
            "Epoch 47/100\n",
            "2/2 [==============================] - 0s 8ms/step - loss: 13.4939 - mse: 256.4199\n",
            "Epoch 48/100\n",
            "2/2 [==============================] - 0s 7ms/step - loss: 17.3269 - mse: 407.2910\n",
            "Epoch 49/100\n",
            "2/2 [==============================] - 0s 7ms/step - loss: 9.5255 - mse: 98.8048\n",
            "Epoch 50/100\n",
            "2/2 [==============================] - 0s 8ms/step - loss: 13.7216 - mse: 254.3912\n",
            "Epoch 51/100\n",
            "2/2 [==============================] - 0s 7ms/step - loss: 11.5667 - mse: 153.2764\n",
            "Epoch 52/100\n",
            "2/2 [==============================] - 0s 8ms/step - loss: 30.2545 - mse: 1578.8967\n",
            "Epoch 53/100\n",
            "2/2 [==============================] - 0s 7ms/step - loss: 13.7442 - mse: 279.6648\n",
            "Epoch 54/100\n",
            "2/2 [==============================] - 0s 7ms/step - loss: 26.4689 - mse: 1074.8376\n",
            "Epoch 55/100\n",
            "2/2 [==============================] - 0s 7ms/step - loss: 26.0621 - mse: 1030.8071\n",
            "Epoch 56/100\n",
            "2/2 [==============================] - 0s 7ms/step - loss: 11.2490 - mse: 171.4785\n",
            "Epoch 57/100\n",
            "2/2 [==============================] - 0s 8ms/step - loss: 13.2308 - mse: 219.0273\n",
            "Epoch 58/100\n",
            "2/2 [==============================] - 0s 7ms/step - loss: 9.8770 - mse: 107.6827\n",
            "Epoch 59/100\n",
            "2/2 [==============================] - 0s 7ms/step - loss: 13.4234 - mse: 255.8797\n",
            "Epoch 60/100\n",
            "2/2 [==============================] - 0s 8ms/step - loss: 10.9430 - mse: 141.8394\n",
            "Epoch 61/100\n",
            "2/2 [==============================] - 0s 8ms/step - loss: 13.5696 - mse: 246.9283\n",
            "Epoch 62/100\n",
            "2/2 [==============================] - 0s 8ms/step - loss: 17.8981 - mse: 487.7436\n",
            "Epoch 63/100\n",
            "2/2 [==============================] - 0s 8ms/step - loss: 8.7416 - mse: 91.9492\n",
            "Epoch 64/100\n",
            "2/2 [==============================] - 0s 7ms/step - loss: 16.1522 - mse: 374.0150\n",
            "Epoch 65/100\n",
            "2/2 [==============================] - 0s 7ms/step - loss: 10.7510 - mse: 146.9713\n",
            "Epoch 66/100\n",
            "2/2 [==============================] - 0s 7ms/step - loss: 22.2064 - mse: 730.6732\n",
            "Epoch 67/100\n",
            "2/2 [==============================] - 0s 7ms/step - loss: 10.2736 - mse: 121.3542\n",
            "Epoch 68/100\n",
            "2/2 [==============================] - 0s 8ms/step - loss: 13.4801 - mse: 269.5972\n",
            "Epoch 69/100\n",
            "2/2 [==============================] - 0s 7ms/step - loss: 11.4395 - mse: 163.5334\n",
            "Epoch 70/100\n",
            "2/2 [==============================] - 0s 8ms/step - loss: 13.6247 - mse: 246.2452\n",
            "Epoch 71/100\n",
            "2/2 [==============================] - 0s 8ms/step - loss: 15.6375 - mse: 347.4489\n",
            "Epoch 72/100\n",
            "2/2 [==============================] - 0s 7ms/step - loss: 11.8575 - mse: 168.6395\n",
            "Epoch 73/100\n",
            "2/2 [==============================] - 0s 7ms/step - loss: 16.6370 - mse: 372.9875\n",
            "Epoch 74/100\n",
            "2/2 [==============================] - 0s 7ms/step - loss: 24.1633 - mse: 918.9792\n",
            "Epoch 75/100\n",
            "2/2 [==============================] - 0s 7ms/step - loss: 9.6353 - mse: 149.1750\n",
            "Epoch 76/100\n",
            "2/2 [==============================] - 0s 7ms/step - loss: 12.4877 - mse: 189.9789\n",
            "Epoch 77/100\n",
            "2/2 [==============================] - 0s 10ms/step - loss: 16.7279 - mse: 433.8627\n",
            "Epoch 78/100\n",
            "2/2 [==============================] - 0s 7ms/step - loss: 9.0863 - mse: 96.5355\n",
            "Epoch 79/100\n",
            "2/2 [==============================] - 0s 12ms/step - loss: 24.0514 - mse: 871.0785\n",
            "Epoch 80/100\n",
            "2/2 [==============================] - 0s 7ms/step - loss: 26.8482 - mse: 1113.7264\n",
            "Epoch 81/100\n",
            "2/2 [==============================] - 0s 7ms/step - loss: 11.7315 - mse: 173.0185\n",
            "Epoch 82/100\n",
            "2/2 [==============================] - 0s 7ms/step - loss: 12.0030 - mse: 211.6876\n",
            "Epoch 83/100\n",
            "2/2 [==============================] - 0s 9ms/step - loss: 17.3953 - mse: 394.2057\n",
            "Epoch 84/100\n",
            "2/2 [==============================] - 0s 9ms/step - loss: 7.2713 - mse: 73.3894\n",
            "Epoch 85/100\n",
            "2/2 [==============================] - 0s 9ms/step - loss: 14.9501 - mse: 312.2220\n",
            "Epoch 86/100\n",
            "2/2 [==============================] - 0s 7ms/step - loss: 15.2764 - mse: 315.2132\n",
            "Epoch 87/100\n",
            "2/2 [==============================] - 0s 7ms/step - loss: 19.0832 - mse: 520.0715\n",
            "Epoch 88/100\n",
            "2/2 [==============================] - 0s 7ms/step - loss: 29.8945 - mse: 1293.8356\n",
            "Epoch 89/100\n",
            "2/2 [==============================] - 0s 7ms/step - loss: 10.1986 - mse: 124.4451\n",
            "Epoch 90/100\n",
            "2/2 [==============================] - 0s 7ms/step - loss: 21.5757 - mse: 667.2031\n",
            "Epoch 91/100\n",
            "2/2 [==============================] - 0s 8ms/step - loss: 10.5966 - mse: 161.8567\n",
            "Epoch 92/100\n",
            "2/2 [==============================] - 0s 7ms/step - loss: 18.4395 - mse: 466.3329\n",
            "Epoch 93/100\n",
            "2/2 [==============================] - 0s 8ms/step - loss: 7.4290 - mse: 81.9777\n",
            "Epoch 94/100\n",
            "2/2 [==============================] - 0s 7ms/step - loss: 17.7704 - mse: 447.4090\n",
            "Epoch 95/100\n",
            "2/2 [==============================] - 0s 7ms/step - loss: 11.1371 - mse: 164.9720\n",
            "Epoch 96/100\n",
            "2/2 [==============================] - 0s 8ms/step - loss: 19.4649 - mse: 512.0765\n",
            "Epoch 97/100\n",
            "2/2 [==============================] - 0s 7ms/step - loss: 12.5058 - mse: 224.3687\n",
            "Epoch 98/100\n",
            "2/2 [==============================] - 0s 8ms/step - loss: 10.3016 - mse: 137.4137\n",
            "Epoch 99/100\n",
            "2/2 [==============================] - 0s 7ms/step - loss: 13.8306 - mse: 262.8583\n",
            "Epoch 100/100\n",
            "2/2 [==============================] - 0s 7ms/step - loss: 20.1180 - mse: 601.9340\n"
          ]
        },
        {
          "output_type": "execute_result",
          "data": {
            "text/plain": [
              "<keras.src.callbacks.History at 0x7f7bec7aebc0>"
            ]
          },
          "metadata": {},
          "execution_count": 139
        }
      ]
    },
    {
      "cell_type": "code",
      "source": [
        "y_preds1=model.predict(X_test)\n",
        "y_preds1"
      ],
      "metadata": {
        "colab": {
          "base_uri": "https://localhost:8080/"
        },
        "id": "1szE1KB-E1Kv",
        "outputId": "1b5699f6-ecef-4f78-93b4-84f8b25644e4"
      },
      "execution_count": 140,
      "outputs": [
        {
          "output_type": "stream",
          "name": "stdout",
          "text": [
            "1/1 [==============================] - 0s 80ms/step\n"
          ]
        },
        {
          "output_type": "execute_result",
          "data": {
            "text/plain": [
              "array([[ 70.299904],\n",
              "       [ 74.87252 ],\n",
              "       [ 79.44514 ],\n",
              "       [ 84.017746],\n",
              "       [ 88.59037 ],\n",
              "       [ 93.162994],\n",
              "       [ 97.73561 ],\n",
              "       [102.30823 ],\n",
              "       [106.880844],\n",
              "       [111.45347 ]], dtype=float32)"
            ]
          },
          "metadata": {},
          "execution_count": 140
        }
      ]
    },
    {
      "cell_type": "code",
      "source": [
        "y_test"
      ],
      "metadata": {
        "colab": {
          "base_uri": "https://localhost:8080/"
        },
        "id": "_FiAlvicUqJU",
        "outputId": "7664f034-85d9-411a-c511-14a640b472fa"
      },
      "execution_count": 141,
      "outputs": [
        {
          "output_type": "execute_result",
          "data": {
            "text/plain": [
              "<tf.Tensor: shape=(10,), dtype=int32, numpy=array([ 70,  74,  78,  82,  86,  90,  94,  98, 102, 106], dtype=int32)>"
            ]
          },
          "metadata": {},
          "execution_count": 141
        }
      ]
    },
    {
      "cell_type": "code",
      "source": [
        "def plot_predictions(train_data=X_train,\n",
        "                     train_labels=y_train,\n",
        "                     test_data=X_test,\n",
        "                     test_labels=y_test,\n",
        "                     predictions=y_pred):\n",
        "  plt.figure(figsize=(10,7))\n",
        "\n",
        "  plt.scatter(train_data,train_labels,c='b',label=\"Training data\")\n",
        "  plt.scatter(test_data,test_labels,c='r',label=\"Test data\")\n",
        "  plt.scatter(test_data,predictions,c='g',label=\"Predictions\")\n",
        "  plt.legend();"
      ],
      "metadata": {
        "id": "2lSV_JOdUy8W"
      },
      "execution_count": 142,
      "outputs": []
    },
    {
      "cell_type": "code",
      "source": [
        "plot_predictions(predictions=y_preds1)"
      ],
      "metadata": {
        "colab": {
          "base_uri": "https://localhost:8080/",
          "height": 599
        },
        "id": "Wi0jaj6lZyq6",
        "outputId": "beff2447-efe2-45ad-b2d0-a26ae3952953"
      },
      "execution_count": 145,
      "outputs": [
        {
          "output_type": "display_data",
          "data": {
            "text/plain": [
              "<Figure size 1000x700 with 1 Axes>"
            ],
            "image/png": "[encoded data removed]"
          },
          "metadata": {}
        }
      ]
    },
    {
      "cell_type": "code",
      "source": [],
      "metadata": {
        "id": "Mo5poaAnZ15Q"
      },
      "execution_count": null,
      "outputs": []
    }
  ]
}